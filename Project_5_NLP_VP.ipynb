{
  "cells": [
    {
      "cell_type": "markdown",
      "metadata": {
        "id": "view-in-github",
        "colab_type": "text"
      },
      "source": [
        "<a href=\"https://colab.research.google.com/github/Valerie-Perea/DDDS-Cohort-16-Projects/blob/main/Project_5_NLP_VP.ipynb\" target=\"_parent\"><img src=\"https://colab.research.google.com/assets/colab-badge.svg\" alt=\"Open In Colab\"/></a>"
      ]
    },
    {
      "cell_type": "markdown",
      "metadata": {
        "id": "CxYSWPCsM0YU"
      },
      "source": [
        "# Natural Language Processing\n",
        "\n"
      ]
    },
    {
      "cell_type": "markdown",
      "source": [
        "### Business Problem\n",
        "    Supervised vs unsupervised?\n",
        "    If there is no target then our problem is unsupervised. I can't find a target for this problem so I believe it is an unsupervised learning problem where we are trying to cluster similar people based on frequency of words in their WIKI API."
      ],
      "metadata": {
        "id": "wtRU-_fA8L8u"
      }
    },
    {
      "cell_type": "markdown",
      "metadata": {
        "id": "FGQCPUEuNezI"
      },
      "source": [
        "This project will give you practical experience using Natural Language Processing techniques. This project is in three parts:\n",
        "- in part 1) you will use a dataset in a CSV file\n",
        "- in part 2) you will use the Wikipedia API to directly access content\n",
        "on Wikipedia.\n",
        "- in part 3) you will make your notebook interactive\n"
      ]
    },
    {
      "cell_type": "markdown",
      "metadata": {
        "id": "IP5iaS9lNamW"
      },
      "source": [
        "### Part 1)\n",
        "\n"
      ]
    },
    {
      "cell_type": "markdown",
      "metadata": {
        "id": "twaXGmp6OAPK"
      },
      "source": [
        "- The CSV file is available at https://ddc-datascience.s3.amazonaws.com/Projects/Project.5-NLP/Data/NLP.csv\n",
        "- The file contains a list of famous people and a brief overview.\n",
        "- The goal of part 1) is to ...\n",
        "  1. Pick one person from the list ( the target person ) and output 10 other people who's overview are \"closest\" to the target person in a Natural Language Processing sense\n",
        "  1. Also output the sentiment of the overview of the target person\n",
        "\n"
      ]
    },
    {
      "cell_type": "markdown",
      "metadata": {
        "id": "SyoC6PWeN9un"
      },
      "source": [
        "### Part 2)\n",
        "\n"
      ]
    },
    {
      "cell_type": "markdown",
      "metadata": {
        "id": "AJxfrb48N-v9"
      },
      "source": [
        "- For the same target person that you chose in Part 1), use the Wikipedia API to access the whole content of the target person's Wikipedia page.\n",
        "- The goal of Part 2) is to ...\n",
        "  1. Print out the text of the Wikipedia article for the target person\n",
        "  1. Determine the sentiment of the text of the Wikipedia page for the target person\n",
        "  1. Collect the text of the Wikipedia pages from the 10 nearest neighbors from Part 1)\n",
        "  1. Determine the nearness ranking of these 10 people to your target person based on their entire Wikipedia page\n",
        "  1. Compare, i.e. plot,  the nearest ranking from Step 1) with the Wikipedia page nearness ranking.  A difference of the rank is one means of comparison.\n",
        "\n"
      ]
    },
    {
      "cell_type": "markdown",
      "metadata": {
        "id": "xEIw9hfFObw7"
      },
      "source": [
        "### Part 3)\n"
      ]
    },
    {
      "cell_type": "markdown",
      "metadata": {
        "id": "SVW0y4Axty7A"
      },
      "source": [
        "Make an interactive notebook where a user can choose or enter a name and the notebook displays the 10 closest individuals.\n",
        "\n",
        "In addition to presenting the project slides, at the end of the presentation each student will demonstrate their code using a famous person suggested by the other students that exists in the DBpedia set.\n"
      ]
    },
    {
      "cell_type": "markdown",
      "source": [
        "## Part 1"
      ],
      "metadata": {
        "id": "UNPIZAtssWvY"
      }
    },
    {
      "cell_type": "code",
      "source": [
        "import pandas as pd\n",
        "import numpy as np\n",
        "import matplotlib.pyplot as plt\n",
        "import seaborn as sns\n",
        "from textblob import TextBlob"
      ],
      "metadata": {
        "id": "rJL_yiRYsV8M"
      },
      "execution_count": 1,
      "outputs": []
    },
    {
      "cell_type": "code",
      "source": [
        "df = pd.read_csv('https://ddc-datascience.s3.amazonaws.com/Projects/Project.5-NLP/Data/NLP.csv')"
      ],
      "metadata": {
        "id": "zVy-oWY8sV4U"
      },
      "execution_count": 2,
      "outputs": []
    },
    {
      "cell_type": "code",
      "source": [
        "df.head()"
      ],
      "metadata": {
        "id": "qPQWE4GdsV01",
        "outputId": "5450d805-08d5-4ec2-c432-f70c7a443c4d",
        "colab": {
          "base_uri": "https://localhost:8080/",
          "height": 206
        }
      },
      "execution_count": 3,
      "outputs": [
        {
          "output_type": "execute_result",
          "data": {
            "text/plain": [
              "                                                 URI                 name  \\\n",
              "0        <http://dbpedia.org/resource/Digby_Morrell>        Digby Morrell   \n",
              "1       <http://dbpedia.org/resource/Alfred_J._Lewy>       Alfred J. Lewy   \n",
              "2        <http://dbpedia.org/resource/Harpdog_Brown>        Harpdog Brown   \n",
              "3  <http://dbpedia.org/resource/Franz_Rottensteiner>  Franz Rottensteiner   \n",
              "4               <http://dbpedia.org/resource/G-Enka>               G-Enka   \n",
              "\n",
              "                                                text  \n",
              "0  digby morrell born 10 october 1979 is a former...  \n",
              "1  alfred j lewy aka sandy lewy graduated from un...  \n",
              "2  harpdog brown is a singer and harmonica player...  \n",
              "3  franz rottensteiner born in waidmannsfeld lowe...  \n",
              "4  henry krvits born 30 december 1974 in tallinn ...  "
            ],
            "text/html": [
              "\n",
              "  <div id=\"df-5e1ec041-a4c1-4c63-a7b1-fee361862732\" class=\"colab-df-container\">\n",
              "    <div>\n",
              "<style scoped>\n",
              "    .dataframe tbody tr th:only-of-type {\n",
              "        vertical-align: middle;\n",
              "    }\n",
              "\n",
              "    .dataframe tbody tr th {\n",
              "        vertical-align: top;\n",
              "    }\n",
              "\n",
              "    .dataframe thead th {\n",
              "        text-align: right;\n",
              "    }\n",
              "</style>\n",
              "<table border=\"1\" class=\"dataframe\">\n",
              "  <thead>\n",
              "    <tr style=\"text-align: right;\">\n",
              "      <th></th>\n",
              "      <th>URI</th>\n",
              "      <th>name</th>\n",
              "      <th>text</th>\n",
              "    </tr>\n",
              "  </thead>\n",
              "  <tbody>\n",
              "    <tr>\n",
              "      <th>0</th>\n",
              "      <td>&lt;http://dbpedia.org/resource/Digby_Morrell&gt;</td>\n",
              "      <td>Digby Morrell</td>\n",
              "      <td>digby morrell born 10 october 1979 is a former...</td>\n",
              "    </tr>\n",
              "    <tr>\n",
              "      <th>1</th>\n",
              "      <td>&lt;http://dbpedia.org/resource/Alfred_J._Lewy&gt;</td>\n",
              "      <td>Alfred J. Lewy</td>\n",
              "      <td>alfred j lewy aka sandy lewy graduated from un...</td>\n",
              "    </tr>\n",
              "    <tr>\n",
              "      <th>2</th>\n",
              "      <td>&lt;http://dbpedia.org/resource/Harpdog_Brown&gt;</td>\n",
              "      <td>Harpdog Brown</td>\n",
              "      <td>harpdog brown is a singer and harmonica player...</td>\n",
              "    </tr>\n",
              "    <tr>\n",
              "      <th>3</th>\n",
              "      <td>&lt;http://dbpedia.org/resource/Franz_Rottensteiner&gt;</td>\n",
              "      <td>Franz Rottensteiner</td>\n",
              "      <td>franz rottensteiner born in waidmannsfeld lowe...</td>\n",
              "    </tr>\n",
              "    <tr>\n",
              "      <th>4</th>\n",
              "      <td>&lt;http://dbpedia.org/resource/G-Enka&gt;</td>\n",
              "      <td>G-Enka</td>\n",
              "      <td>henry krvits born 30 december 1974 in tallinn ...</td>\n",
              "    </tr>\n",
              "  </tbody>\n",
              "</table>\n",
              "</div>\n",
              "    <div class=\"colab-df-buttons\">\n",
              "\n",
              "  <div class=\"colab-df-container\">\n",
              "    <button class=\"colab-df-convert\" onclick=\"convertToInteractive('df-5e1ec041-a4c1-4c63-a7b1-fee361862732')\"\n",
              "            title=\"Convert this dataframe to an interactive table.\"\n",
              "            style=\"display:none;\">\n",
              "\n",
              "  <svg xmlns=\"http://www.w3.org/2000/svg\" height=\"24px\" viewBox=\"0 -960 960 960\">\n",
              "    <path d=\"M120-120v-720h720v720H120Zm60-500h600v-160H180v160Zm220 220h160v-160H400v160Zm0 220h160v-160H400v160ZM180-400h160v-160H180v160Zm440 0h160v-160H620v160ZM180-180h160v-160H180v160Zm440 0h160v-160H620v160Z\"/>\n",
              "  </svg>\n",
              "    </button>\n",
              "\n",
              "  <style>\n",
              "    .colab-df-container {\n",
              "      display:flex;\n",
              "      gap: 12px;\n",
              "    }\n",
              "\n",
              "    .colab-df-convert {\n",
              "      background-color: #E8F0FE;\n",
              "      border: none;\n",
              "      border-radius: 50%;\n",
              "      cursor: pointer;\n",
              "      display: none;\n",
              "      fill: #1967D2;\n",
              "      height: 32px;\n",
              "      padding: 0 0 0 0;\n",
              "      width: 32px;\n",
              "    }\n",
              "\n",
              "    .colab-df-convert:hover {\n",
              "      background-color: #E2EBFA;\n",
              "      box-shadow: 0px 1px 2px rgba(60, 64, 67, 0.3), 0px 1px 3px 1px rgba(60, 64, 67, 0.15);\n",
              "      fill: #174EA6;\n",
              "    }\n",
              "\n",
              "    .colab-df-buttons div {\n",
              "      margin-bottom: 4px;\n",
              "    }\n",
              "\n",
              "    [theme=dark] .colab-df-convert {\n",
              "      background-color: #3B4455;\n",
              "      fill: #D2E3FC;\n",
              "    }\n",
              "\n",
              "    [theme=dark] .colab-df-convert:hover {\n",
              "      background-color: #434B5C;\n",
              "      box-shadow: 0px 1px 3px 1px rgba(0, 0, 0, 0.15);\n",
              "      filter: drop-shadow(0px 1px 2px rgba(0, 0, 0, 0.3));\n",
              "      fill: #FFFFFF;\n",
              "    }\n",
              "  </style>\n",
              "\n",
              "    <script>\n",
              "      const buttonEl =\n",
              "        document.querySelector('#df-5e1ec041-a4c1-4c63-a7b1-fee361862732 button.colab-df-convert');\n",
              "      buttonEl.style.display =\n",
              "        google.colab.kernel.accessAllowed ? 'block' : 'none';\n",
              "\n",
              "      async function convertToInteractive(key) {\n",
              "        const element = document.querySelector('#df-5e1ec041-a4c1-4c63-a7b1-fee361862732');\n",
              "        const dataTable =\n",
              "          await google.colab.kernel.invokeFunction('convertToInteractive',\n",
              "                                                    [key], {});\n",
              "        if (!dataTable) return;\n",
              "\n",
              "        const docLinkHtml = 'Like what you see? Visit the ' +\n",
              "          '<a target=\"_blank\" href=https://colab.research.google.com/notebooks/data_table.ipynb>data table notebook</a>'\n",
              "          + ' to learn more about interactive tables.';\n",
              "        element.innerHTML = '';\n",
              "        dataTable['output_type'] = 'display_data';\n",
              "        await google.colab.output.renderOutput(dataTable, element);\n",
              "        const docLink = document.createElement('div');\n",
              "        docLink.innerHTML = docLinkHtml;\n",
              "        element.appendChild(docLink);\n",
              "      }\n",
              "    </script>\n",
              "  </div>\n",
              "\n",
              "\n",
              "    <div id=\"df-9c9c3a77-7bfb-4451-9da4-711d48ab9024\">\n",
              "      <button class=\"colab-df-quickchart\" onclick=\"quickchart('df-9c9c3a77-7bfb-4451-9da4-711d48ab9024')\"\n",
              "                title=\"Suggest charts\"\n",
              "                style=\"display:none;\">\n",
              "\n",
              "<svg xmlns=\"http://www.w3.org/2000/svg\" height=\"24px\"viewBox=\"0 0 24 24\"\n",
              "     width=\"24px\">\n",
              "    <g>\n",
              "        <path d=\"M19 3H5c-1.1 0-2 .9-2 2v14c0 1.1.9 2 2 2h14c1.1 0 2-.9 2-2V5c0-1.1-.9-2-2-2zM9 17H7v-7h2v7zm4 0h-2V7h2v10zm4 0h-2v-4h2v4z\"/>\n",
              "    </g>\n",
              "</svg>\n",
              "      </button>\n",
              "\n",
              "<style>\n",
              "  .colab-df-quickchart {\n",
              "      --bg-color: #E8F0FE;\n",
              "      --fill-color: #1967D2;\n",
              "      --hover-bg-color: #E2EBFA;\n",
              "      --hover-fill-color: #174EA6;\n",
              "      --disabled-fill-color: #AAA;\n",
              "      --disabled-bg-color: #DDD;\n",
              "  }\n",
              "\n",
              "  [theme=dark] .colab-df-quickchart {\n",
              "      --bg-color: #3B4455;\n",
              "      --fill-color: #D2E3FC;\n",
              "      --hover-bg-color: #434B5C;\n",
              "      --hover-fill-color: #FFFFFF;\n",
              "      --disabled-bg-color: #3B4455;\n",
              "      --disabled-fill-color: #666;\n",
              "  }\n",
              "\n",
              "  .colab-df-quickchart {\n",
              "    background-color: var(--bg-color);\n",
              "    border: none;\n",
              "    border-radius: 50%;\n",
              "    cursor: pointer;\n",
              "    display: none;\n",
              "    fill: var(--fill-color);\n",
              "    height: 32px;\n",
              "    padding: 0;\n",
              "    width: 32px;\n",
              "  }\n",
              "\n",
              "  .colab-df-quickchart:hover {\n",
              "    background-color: var(--hover-bg-color);\n",
              "    box-shadow: 0 1px 2px rgba(60, 64, 67, 0.3), 0 1px 3px 1px rgba(60, 64, 67, 0.15);\n",
              "    fill: var(--button-hover-fill-color);\n",
              "  }\n",
              "\n",
              "  .colab-df-quickchart-complete:disabled,\n",
              "  .colab-df-quickchart-complete:disabled:hover {\n",
              "    background-color: var(--disabled-bg-color);\n",
              "    fill: var(--disabled-fill-color);\n",
              "    box-shadow: none;\n",
              "  }\n",
              "\n",
              "  .colab-df-spinner {\n",
              "    border: 2px solid var(--fill-color);\n",
              "    border-color: transparent;\n",
              "    border-bottom-color: var(--fill-color);\n",
              "    animation:\n",
              "      spin 1s steps(1) infinite;\n",
              "  }\n",
              "\n",
              "  @keyframes spin {\n",
              "    0% {\n",
              "      border-color: transparent;\n",
              "      border-bottom-color: var(--fill-color);\n",
              "      border-left-color: var(--fill-color);\n",
              "    }\n",
              "    20% {\n",
              "      border-color: transparent;\n",
              "      border-left-color: var(--fill-color);\n",
              "      border-top-color: var(--fill-color);\n",
              "    }\n",
              "    30% {\n",
              "      border-color: transparent;\n",
              "      border-left-color: var(--fill-color);\n",
              "      border-top-color: var(--fill-color);\n",
              "      border-right-color: var(--fill-color);\n",
              "    }\n",
              "    40% {\n",
              "      border-color: transparent;\n",
              "      border-right-color: var(--fill-color);\n",
              "      border-top-color: var(--fill-color);\n",
              "    }\n",
              "    60% {\n",
              "      border-color: transparent;\n",
              "      border-right-color: var(--fill-color);\n",
              "    }\n",
              "    80% {\n",
              "      border-color: transparent;\n",
              "      border-right-color: var(--fill-color);\n",
              "      border-bottom-color: var(--fill-color);\n",
              "    }\n",
              "    90% {\n",
              "      border-color: transparent;\n",
              "      border-bottom-color: var(--fill-color);\n",
              "    }\n",
              "  }\n",
              "</style>\n",
              "\n",
              "      <script>\n",
              "        async function quickchart(key) {\n",
              "          const quickchartButtonEl =\n",
              "            document.querySelector('#' + key + ' button');\n",
              "          quickchartButtonEl.disabled = true;  // To prevent multiple clicks.\n",
              "          quickchartButtonEl.classList.add('colab-df-spinner');\n",
              "          try {\n",
              "            const charts = await google.colab.kernel.invokeFunction(\n",
              "                'suggestCharts', [key], {});\n",
              "          } catch (error) {\n",
              "            console.error('Error during call to suggestCharts:', error);\n",
              "          }\n",
              "          quickchartButtonEl.classList.remove('colab-df-spinner');\n",
              "          quickchartButtonEl.classList.add('colab-df-quickchart-complete');\n",
              "        }\n",
              "        (() => {\n",
              "          let quickchartButtonEl =\n",
              "            document.querySelector('#df-9c9c3a77-7bfb-4451-9da4-711d48ab9024 button');\n",
              "          quickchartButtonEl.style.display =\n",
              "            google.colab.kernel.accessAllowed ? 'block' : 'none';\n",
              "        })();\n",
              "      </script>\n",
              "    </div>\n",
              "\n",
              "    </div>\n",
              "  </div>\n"
            ],
            "application/vnd.google.colaboratory.intrinsic+json": {
              "type": "dataframe",
              "variable_name": "df",
              "summary": "{\n  \"name\": \"df\",\n  \"rows\": 42786,\n  \"fields\": [\n    {\n      \"column\": \"URI\",\n      \"properties\": {\n        \"dtype\": \"string\",\n        \"num_unique_values\": 42786,\n        \"samples\": [\n          \"<http://dbpedia.org/resource/Tom_Bancroft>\",\n          \"<http://dbpedia.org/resource/Bart_Zeller>\",\n          \"<http://dbpedia.org/resource/Caitlin_Morrall>\"\n        ],\n        \"semantic_type\": \"\",\n        \"description\": \"\"\n      }\n    },\n    {\n      \"column\": \"name\",\n      \"properties\": {\n        \"dtype\": \"string\",\n        \"num_unique_values\": 42785,\n        \"samples\": [\n          \"Tom Bancroft\",\n          \"James Holt (scholar)\",\n          \"Chen Tze-chung\"\n        ],\n        \"semantic_type\": \"\",\n        \"description\": \"\"\n      }\n    },\n    {\n      \"column\": \"text\",\n      \"properties\": {\n        \"dtype\": \"string\",\n        \"num_unique_values\": 42786,\n        \"samples\": [\n          \"tom bancroft born 1967 london is a british jazz drummer and composer he began drumming aged seven and started off playing jazz with his father and identical twin brother phil after studying medicine at cambridge university he spent a year studying composition and arranging at mcgill university in montreal canada qualifying as a doctor in 1992 he then worked as a jazz musician and composer supporting his music income with locum work as a hospital doctor until 1998 when he began starting music related companies he is married to singer gina rae and has two children sam and sophie in 2004 he received the creative scotland awardin 1998 he launched caber music with support from the national lottery fund which went on to release over thirty cds over the next seven years to critical acclaim including two bbc jazz awards for best cd and numerous album of the year placings he has subsequently started the company abc creative music with his twin brother phil bancroft which develops creative music education resources which are now being used in more than 500 schools in scotlandas a drummer he has studied with jo morello joey baron and andrew cyrille and played with many musicians including sun ra joakim milder charlie mariano hamiett bluiett liane carroll oliver lake george colligan david berkman tommy smith julian argelles emil vicklicky martin taylor sheila jordan shooglenifty karen mathieson reid anderson billy jenkins bill wells geri allen mr mcfalls chamber and martyn bennetthe is currently the drummer with the dave milligan trio the chick lyall trio and kevin mackenzies vital signs the laura macdonald quartet and octet and plays in an improvising duo with the italian guitarist enzo roccohe is drummer and coleader of trio aab whose first album cold fusion was named an album of 1999 by bbc radio 3 and whose second album wherever i lay my home thats my hat was an album of 2001 in the guardian and picked in a list of 100 essential all time jazz albums by mojo magazine in 2001 they also released stranger things happen at c in 2002 reactivated in 2011 trio aab performed at the delhi jazz festivalas a band leader and composer he has led orchestro interrupto formerly the tom bancroft orchestra a contemporary jazz big band producing the album pieology in 1998 many festival performances a uk tour and a live concert broadcast on bbc radio 3 in 2004 the band toured the uk with geri allen and the tour was broadcast on bbc radio 3 and received five star reviews in the guardian and the scotsman and was voted jazz gig of the year in manchesters city limits and londons time out magazines orchestri interrupto released a cd in 2009 of the music from the geri allen tour with chick lyall on piano entitled the ballad of linda crawford bancroft has also composed for smaller groups including the orange ear ensemble octet and kilt couture a collaboration with french group arfi in 2006 he launched the new tom bancroft 6 pack as well as a spinoff childrens focussed band from the orchestra called kidsamonium which premiered at the gateshead international jazz festival at the sage gateshead and also at the cheltenham jazz festival in 2006 and went on to perform all over europebancrofts compositions have been used in radio film dance television and theatre he has been commissioned by bbc scotland bbc radio 3 glasgow international jazz festival assembly direct birmingham jazz and the national youth jazz orchestra of scotland he has danced in played and composed music for life on the planets surface with kelsey michael and a case for a picnic pt2 tracing houdini and hoops hats acrobats with the choreographer ruby worthhe has led many large scale community and education projects including 150 primary school children performing at the london jazz festival 200 at perth concert hall with classical percussionist colin currie and 100 parents grandparents and children playing drums and percussion at the big stix project at the gateshead jazz festivalbancroft is an active teacher and educator from private drum students to teaching composition and leading big bands he is an apple distinguished educator he has always been active in setting up new ways to promote jazz and improvisation he curated a series of mini festivals for uk and european musicians inside the glasgow jazz festival in the 1990s called clandemonium and europhonium he was active in setting up the scottish jazz federationin 2010 he was musical director of major dance show off kilter which played in major venues across scotland toured scotland with the dave milligan trio and premiered the band of eden malefemale big band to critical acclaimin late 2010 in his role at abc creative music bancroft launched the website abc creative music online to allow scottish schools to teach creative music by smartboard\",\n          \"barton wallace zeller born july 22 1941 is a former professional baseball catcher he played one game in major league baseball in 1970 for the st louis cardinals he recently served as manager of the joliet slammers of the frontier league but was released on september 10 2012zeller was signed by the cardinals in 1963 and spent four years in the cardinals farm system after missing the 1967 season he spent 1968 and 1969 with the lewiston broncs and arkansas travelers respectively zeller played in his only major league game on may 21 1970 against the philadelphia phillies he was inserted to catch the bottom of the ninth inning zeller never had a plate appearance but was credited with one put out on billy mccools strikeout of jim hutto zeller batted and threw righthanded his jersey number was 29 at the time of play he was 6 ft 1 in tall and weighed 185 lbzeller was released as an active player by the cardinals on june 8 but stayed on as a coach for the balance of the 1970 season he played in the minors in 1971 in the milwaukee brewers and new york yankees organizationszeller was the hitting coachthird base coach for the southern illinois miners of the frontier league an independent baseball league zeller began working for the miners in their inaugural 2007 season before coming to the miners zeller spent two seasons with the sioux falls canaries as a bench coach zeller was named as the first manager of slammers in january 2011zeller is currently managing the washington wild things of the frontier league\",\n          \"caitlin shea morrall machol born may 2 1983 is a beauty queen from burlington wisconsin who competed in the 2008 miss usa pageantmorrall who had previously competed in the miss wisconsin america system won the miss wisconsin usa 2007 title in the state pageant held at richland center on 2 september 2006 she competed in the nationally televised miss usa 2007 pageant which was broadcast live from the kodak theatre in hollywood california on march 23 2007 where she placed in top 15 this was the best finish by a contestant from wisconsin in 28 yearsin june 2006 morrall placed first runnerup in the miss wisconsin competition where she competed as miss burlington area chocolatefest she had previously placed 3rd runnerup in 2004 1st runnerup in 2003 and 2nd runnerup in 2002 morrall has held other local titles such as miss racine in 2002 miss milwaukee in 2003 and miss southern wisconsin in 2004 despite being eligible to compete in the miss america system for one more year morrall made the decision to compete in the miss wisconsin usa pageant one week before applications for the pageant closedmorrall is a 2001 graduate of burlington high school wisconsin and is a 2008 graduate of alverno college in milwaukee with a bachelor of arts degree in professional communicationcaitlin is currently the traffic reporter in the morning for wtmjtv 4\"\n        ],\n        \"semantic_type\": \"\",\n        \"description\": \"\"\n      }\n    }\n  ]\n}"
            }
          },
          "metadata": {},
          "execution_count": 3
        }
      ]
    },
    {
      "cell_type": "code",
      "source": [
        "import pandas as pd\n",
        "import random\n",
        "from sklearn.feature_extraction.text import CountVectorizer\n",
        "from sklearn.metrics.pairwise import cosine_similarity\n",
        "\n",
        "# Use the actual text column name (e.g., 'bio', 'profile', etc.)\n",
        "text_column = 'text'\n",
        "text_data = df[text_column].fillna(\"\")\n",
        "\n",
        "# Create bag-of-words vectors\n",
        "vectorizer = CountVectorizer()\n",
        "X = vectorizer.fit_transform(text_data)\n",
        "\n",
        "# Pick one person (you can also pick by index instead of random)\n",
        "person_index = random.randint(0, len(df) - 1)\n",
        "person_vector = X[person_index]\n",
        "\n",
        "# Compute cosine similarity between this person and all others\n",
        "similarities = cosine_similarity(person_vector, X).flatten()\n",
        "\n",
        "# Exclude the person themself from the results\n",
        "similarities[person_index] = -1  # Set self-similarity to -1 to exclude\n",
        "\n",
        "# Get indices of top 10 similar people\n",
        "top_match_indices = similarities.argsort()[::-1][:10]\n",
        "\n",
        "# Show the chosen person and their top matches\n",
        "print(\"Chosen person:\\n\", df.iloc[person_index])\n",
        "print(\"\\nTop 10 similar people:\\n\", df.iloc[top_match_indices])\n"
      ],
      "metadata": {
        "id": "3SYaYFFisVto",
        "outputId": "3d725249-6d62-4ecd-f323-0315e80e375e",
        "colab": {
          "base_uri": "https://localhost:8080/"
        }
      },
      "execution_count": 4,
      "outputs": [
        {
          "output_type": "stream",
          "name": "stdout",
          "text": [
            "Chosen person:\n",
            " URI     <http://dbpedia.org/resource/Xiaodong_Wang_(el...\n",
            "name                  Xiaodong Wang (electrical engineer)\n",
            "text    xiaodong wang is a professor of electrical eng...\n",
            "Name: 4641, dtype: object\n",
            "\n",
            "Top 10 similar people:\n",
            "                                                      URI  \\\n",
            "15253  <http://dbpedia.org/resource/Hendrik_C._Ferreira>   \n",
            "25939      <http://dbpedia.org/resource/Jacek_M._Zurada>   \n",
            "40163  <http://dbpedia.org/resource/Constantine_A._Ba...   \n",
            "27960   <http://dbpedia.org/resource/Norman_C._Beaulieu>   \n",
            "32734       <http://dbpedia.org/resource/Vijay_Bhargava>   \n",
            "6103     <http://dbpedia.org/resource/Larry_L._Peterson>   \n",
            "40903  <http://dbpedia.org/resource/Robert_W._Brodersen>   \n",
            "1871         <http://dbpedia.org/resource/Babak_Hassibi>   \n",
            "4023            <http://dbpedia.org/resource/Bill_Dally>   \n",
            "2977           <http://dbpedia.org/resource/Ingemar_Cox>   \n",
            "\n",
            "                         name  \\\n",
            "15253     Hendrik C. Ferreira   \n",
            "25939         Jacek M. Zurada   \n",
            "40163  Constantine A. Balanis   \n",
            "27960      Norman C. Beaulieu   \n",
            "32734          Vijay Bhargava   \n",
            "6103        Larry L. Peterson   \n",
            "40903     Robert W. Brodersen   \n",
            "1871            Babak Hassibi   \n",
            "4023               Bill Dally   \n",
            "2977              Ingemar Cox   \n",
            "\n",
            "                                                    text  \n",
            "15253  hendrik christoffel ferreira is a professor in...  \n",
            "25939  jacek m zurada received his ms and phd degrees...  \n",
            "40163  constantine a balanis born 1938 is a greek bor...  \n",
            "27960  norman charles joseph beaulieu born november 8...  \n",
            "32734  vijay k bhargava born september 22 1948 is a r...  \n",
            "6103   larry l peterson is a noted american computer ...  \n",
            "40903  robert w brodersen born november 1 1945 is a p...  \n",
            "1871   babak hassibi persian born in tehran iran is a...  \n",
            "4023   william james bill dally is the willard r and ...  \n",
            "2977   ingemar j cox is professor and director of res...  \n"
          ]
        }
      ]
    },
    {
      "cell_type": "code",
      "source": [
        "from textblob import TextBlob\n",
        "\n",
        "# Get the target person's overview text\n",
        "target_text = df.iloc[person_index][text_column]\n",
        "\n",
        "# Analyze sentiment\n",
        "blob = TextBlob(target_text)\n",
        "sentiment = blob.sentiment  # This gives a namedtuple (polarity, subjectivity)\n",
        "\n",
        "# Output the sentiment\n",
        "print(f\"\\nSentiment of target person's text:\")\n",
        "print(f\"Polarity: {sentiment.polarity:.2f} (−1 = negative, +1 = positive)\")\n",
        "print(f\"Subjectivity: {sentiment.subjectivity:.2f} (0 = objective, 1 = subjective)\")"
      ],
      "metadata": {
        "id": "CSxDCksgwEdT",
        "outputId": "61cb3b30-a3f1-40a4-8981-472f7dd87cb8",
        "colab": {
          "base_uri": "https://localhost:8080/"
        }
      },
      "execution_count": 5,
      "outputs": [
        {
          "output_type": "stream",
          "name": "stdout",
          "text": [
            "\n",
            "Sentiment of target person's text:\n",
            "Polarity: 0.17 (−1 = negative, +1 = positive)\n",
            "Subjectivity: 0.42 (0 = objective, 1 = subjective)\n"
          ]
        }
      ]
    },
    {
      "cell_type": "markdown",
      "source": [
        "## Part 2"
      ],
      "metadata": {
        "id": "wcEUqVdXxGZn"
      }
    },
    {
      "cell_type": "code",
      "source": [
        "%%capture\n",
        "!pip3 install wikipedia-api"
      ],
      "metadata": {
        "id": "sCp2F2PbwEZd"
      },
      "execution_count": 6,
      "outputs": []
    },
    {
      "cell_type": "code",
      "source": [
        "import wikipediaapi"
      ],
      "metadata": {
        "id": "t6dopgR3vfDU"
      },
      "execution_count": 7,
      "outputs": []
    },
    {
      "cell_type": "code",
      "source": [
        "topic = df.iloc[person_index]['name']\n",
        "wiki_wiki = wikipediaapi.Wikipedia(user_agent='your-user-agent', language='en')\n",
        "page_py = wiki_wiki.page(topic)"
      ],
      "metadata": {
        "id": "yHBJAbrGviBT"
      },
      "execution_count": 8,
      "outputs": []
    },
    {
      "cell_type": "code",
      "source": [
        "wiki_text = page_py.text\n",
        "wiki_text"
      ],
      "metadata": {
        "colab": {
          "base_uri": "https://localhost:8080/",
          "height": 124
        },
        "id": "DIsauVVizCk-",
        "outputId": "97fef475-4ab3-4ef2-acc8-36c9efb6ec2c"
      },
      "execution_count": 9,
      "outputs": [
        {
          "output_type": "execute_result",
          "data": {
            "text/plain": [
              "'Xiaodong Wang (Chinese: 王晓东; pinyin: Wáng Xiǎodōng) is a Chinese-born American electrical engineer and information theorist. He currently serves as a professor of Electrical Engineering at Columbia University. He earned a BS degree in electrical engineering and applied mathematics from Shanghai Jiaotong University, an MS degree in electrical and computer engineering from Purdue University, and a PhD from Princeton University in electrical engineering. He formerly served as assistant professor of Electrical Engineering at Texas A&M University before he joined Columbia as an assistant professor in January 2002.\\nHe is an IEEE Fellow and an ISI Highly Cited author. He has won numerous prestigious awards, among them the National Science Foundation CAREER Award in 1999 and the IEEE Communications Society and Information Theory Society Joint Paper Award in 2001. He also won the 2011 IEEE Communication Society Award for Outstanding Paper on New Communication Topics. He has been an editor of journals such as IEEE Transactions on Communications, the IEEE Transactions on Wireless Communications, the IEEE Transactions on Signal Processing, and the IEEE Transactions on Information Theory. He served as Associate Editor for Detection and Estimation on the publications committee of the IEEE Information Theory Society from 2003 to 2006. He has presented at the Wireless and Optical Communications Conference.\\nWang has many research interests, but chooses to focus on the areas of information theory, signal processing, and communications. Furthermore, he has influential published research in the areas of wireless communications, statistical signal processing, parallel and distributed computing, nanoelectronics, and quantum computing. In 2003 he published a book entitled Wireless Communication Systems: Advanced Techniques for Signal Reception, published by Prentice Hall. Recently he is also working on the emerging field of genomics signal processing and information theoretic genomics.\\n\\nReferences\\nExternal links\\nPublication list'"
            ],
            "application/vnd.google.colaboratory.intrinsic+json": {
              "type": "string"
            }
          },
          "metadata": {},
          "execution_count": 9
        }
      ]
    },
    {
      "cell_type": "code",
      "source": [
        "# Analyze sentiment\n",
        "blob = TextBlob(wiki_text)\n",
        "sentiment = blob.sentiment\n",
        "\n",
        "# Output the sentiment\n",
        "print(f\"\\nSentiment of target person's text:\")\n",
        "print(f\"Polarity: {sentiment.polarity:.2f} (−1 = negative, +1 = positive)\")\n",
        "print(f\"Subjectivity: {sentiment.subjectivity:.2f} (0 = objective, 1 = subjective)\")"
      ],
      "metadata": {
        "colab": {
          "base_uri": "https://localhost:8080/"
        },
        "id": "VN_OmtFJ0h5q",
        "outputId": "ff2a0f29-24ce-4d16-a37c-f01a141eb824"
      },
      "execution_count": 10,
      "outputs": [
        {
          "output_type": "stream",
          "name": "stdout",
          "text": [
            "\n",
            "Sentiment of target person's text:\n",
            "Polarity: 0.12 (−1 = negative, +1 = positive)\n",
            "Subjectivity: 0.34 (0 = objective, 1 = subjective)\n"
          ]
        }
      ]
    },
    {
      "cell_type": "code",
      "source": [
        "import re\n",
        "\n",
        "# Function to clean Wikipedia text\n",
        "def clean_wikipedia_text(text):\n",
        "    text = re.sub(r'\\[\\d+\\]', '', text)\n",
        "    text = re.sub(r'\\[.*?\\]', '', text)\n",
        "    return text\n",
        "\n",
        "# Function to get sentiment analysis\n",
        "def get_sentiment(text):\n",
        "    blob = TextBlob(text)\n",
        "    return blob.sentiment\n",
        "\n",
        "# Initialize the Wikipedia API object\n",
        "wiki_wiki = wikipediaapi.Wikipedia(user_agent='your-user-agent', language='en')\n",
        "\n",
        "# Get the target person's name and fetch their Wikipedia page\n",
        "topic = df.iloc[person_index]['name']\n",
        "page_py = wiki_wiki.page(topic)\n",
        "\n",
        "# Check if the page exists\n",
        "if not page_py.exists():\n",
        "    print(f\"Sorry, the Wikipedia page for {topic} doesn't exist.\")\n",
        "else:\n",
        "    # Extract the content of the target person's Wikipedia page\n",
        "    target_text = clean_wikipedia_text(page_py.text)\n",
        "\n",
        "    # Get sentiment of the target person\n",
        "    target_sentiment = get_sentiment(target_text)\n",
        "    print(f\"\\nSentiment of the Wikipedia page for {topic}:\")\n",
        "    print(f\"Polarity: {target_sentiment.polarity:.2f} (−1 = negative, +1 = positive)\")\n",
        "    print(f\"Subjectivity: {target_sentiment.subjectivity:.2f} (0 = objective, 1 = subjective)\\n\")\n",
        "\n",
        "# Get the top 10 similar people and analyze their sentiment\n",
        "print(\"Top 10 similar people and their sentiment analysis:\")\n",
        "\n",
        "# Loop through the top 10 similar people (based on your cosine similarity)\n",
        "for idx in top_match_indices:\n",
        "    neighbor_name = df.iloc[idx]['name']\n",
        "    page_py = wiki_wiki.page(neighbor_name)\n",
        "\n",
        "    # Check if the Wikipedia page exists\n",
        "    if not page_py.exists():\n",
        "        print(f\"\\nSorry, the Wikipedia page for {neighbor_name} doesn't exist.\")\n",
        "    else:\n",
        "        # Extract the content and clean it\n",
        "        neighbor_text = clean_wikipedia_text(page_py.text)\n",
        "\n",
        "        # Get sentiment for the neighbor\n",
        "        neighbor_sentiment = get_sentiment(neighbor_text)\n",
        "\n",
        "        # Output the sentiment for the neighbor\n",
        "        print(f\"\\nPerson {neighbor_name} (Index: {idx}):\")\n",
        "        print(f\"Similarity Score: {similarities[idx]:.4f}\")\n",
        "        print(f\"Polarity: {neighbor_sentiment.polarity:.2f} (−1 = negative, +1 = positive)\")\n",
        "        print(f\"Subjectivity: {neighbor_sentiment.subjectivity:.2f} (0 = objective, 1 = subjective)\")\n",
        "\n"
      ],
      "metadata": {
        "colab": {
          "base_uri": "https://localhost:8080/"
        },
        "id": "Pcrjz3px1DEv",
        "outputId": "7f1dbe95-f714-4d19-aec3-7eb6715eda17"
      },
      "execution_count": 11,
      "outputs": [
        {
          "output_type": "stream",
          "name": "stdout",
          "text": [
            "\n",
            "Sentiment of the Wikipedia page for Xiaodong Wang (electrical engineer):\n",
            "Polarity: 0.12 (−1 = negative, +1 = positive)\n",
            "Subjectivity: 0.34 (0 = objective, 1 = subjective)\n",
            "\n",
            "Top 10 similar people and their sentiment analysis:\n",
            "\n",
            "Person Hendrik C. Ferreira (Index: 15253):\n",
            "Similarity Score: 0.7676\n",
            "Polarity: 0.05 (−1 = negative, +1 = positive)\n",
            "Subjectivity: 0.17 (0 = objective, 1 = subjective)\n",
            "\n",
            "Person Jacek M. Zurada (Index: 25939):\n",
            "Similarity Score: 0.7574\n",
            "Polarity: 0.16 (−1 = negative, +1 = positive)\n",
            "Subjectivity: 0.36 (0 = objective, 1 = subjective)\n",
            "\n",
            "Person Constantine A. Balanis (Index: 40163):\n",
            "Similarity Score: 0.7543\n",
            "Polarity: 0.22 (−1 = negative, +1 = positive)\n",
            "Subjectivity: 0.41 (0 = objective, 1 = subjective)\n",
            "\n",
            "Person Norman C. Beaulieu (Index: 27960):\n",
            "Similarity Score: 0.7461\n",
            "Polarity: 0.09 (−1 = negative, +1 = positive)\n",
            "Subjectivity: 0.22 (0 = objective, 1 = subjective)\n",
            "\n",
            "Person Vijay Bhargava (Index: 32734):\n",
            "Similarity Score: 0.7442\n",
            "Polarity: -0.02 (−1 = negative, +1 = positive)\n",
            "Subjectivity: 0.25 (0 = objective, 1 = subjective)\n",
            "\n",
            "Person Larry L. Peterson (Index: 6103):\n",
            "Similarity Score: 0.7406\n",
            "Polarity: 0.06 (−1 = negative, +1 = positive)\n",
            "Subjectivity: 0.23 (0 = objective, 1 = subjective)\n",
            "\n",
            "Person Robert W. Brodersen (Index: 40903):\n",
            "Similarity Score: 0.7339\n",
            "Polarity: -0.02 (−1 = negative, +1 = positive)\n",
            "Subjectivity: 0.12 (0 = objective, 1 = subjective)\n",
            "\n",
            "Person Babak Hassibi (Index: 1871):\n",
            "Similarity Score: 0.7312\n",
            "Polarity: -0.06 (−1 = negative, +1 = positive)\n",
            "Subjectivity: 0.30 (0 = objective, 1 = subjective)\n",
            "\n",
            "Person Bill Dally (Index: 4023):\n",
            "Similarity Score: 0.7289\n",
            "Polarity: 0.08 (−1 = negative, +1 = positive)\n",
            "Subjectivity: 0.28 (0 = objective, 1 = subjective)\n",
            "\n",
            "Person Ingemar Cox (Index: 2977):\n",
            "Similarity Score: 0.7216\n",
            "Polarity: 0.11 (−1 = negative, +1 = positive)\n",
            "Subjectivity: 0.26 (0 = objective, 1 = subjective)\n"
          ]
        }
      ]
    },
    {
      "cell_type": "code",
      "source": [
        "# Store names and sentiment scores\n",
        "names = [topic]\n",
        "polarities = [target_sentiment.polarity]\n",
        "subjectivities = [target_sentiment.subjectivity]\n",
        "\n",
        "# Collect data from the top 10 similar people\n",
        "for idx in top_match_indices:\n",
        "    neighbor_name = df.iloc[idx]['name']\n",
        "    page_py = wiki_wiki.page(neighbor_name)\n",
        "\n",
        "    if page_py.exists():\n",
        "        neighbor_text = clean_wikipedia_text(page_py.text)\n",
        "        neighbor_sentiment = get_sentiment(neighbor_text)\n",
        "        names.append(neighbor_name)\n",
        "        polarities.append(neighbor_sentiment.polarity)\n",
        "        subjectivities.append(neighbor_sentiment.subjectivity)\n",
        "\n",
        "# Create a scatter plot of polarity vs subjectivity\n",
        "plt.figure(figsize=(10, 6))\n",
        "plt.scatter(polarities, subjectivities, color='blue')\n",
        "\n",
        "# Annotate points with names\n",
        "for i, name in enumerate(names):\n",
        "    plt.text(polarities[i] + 0.01, subjectivities[i], name, fontsize=9)\n",
        "\n",
        "plt.title(\"Sentiment Analysis of Wikipedia Pages\")\n",
        "plt.xlabel(\"Polarity (−1 = Negative, +1 = Positive)\")\n",
        "plt.ylabel(\"Subjectivity (0 = Objective, 1 = Subjective)\")\n",
        "plt.grid(True)\n",
        "plt.axvline(0, color='gray', linestyle='--')\n",
        "plt.axhline(0.5, color='gray', linestyle='--')\n",
        "plt.tight_layout()\n",
        "plt.show()\n"
      ],
      "metadata": {
        "colab": {
          "base_uri": "https://localhost:8080/",
          "height": 607
        },
        "id": "IUX7DjQka_k4",
        "outputId": "cf3e29eb-8cd5-46b1-a5c8-95230695f60c"
      },
      "execution_count": 12,
      "outputs": [
        {
          "output_type": "display_data",
          "data": {
            "text/plain": [
              "<Figure size 1000x600 with 1 Axes>"
            ],
            "image/png": "[encoded data removed]"
          },
          "metadata": {}
        }
      ]
    },
    {
      "cell_type": "code",
      "source": [
        "from sklearn.feature_extraction.text import CountVectorizer\n",
        "from sklearn.metrics.pairwise import cosine_similarity\n",
        "\n",
        "# Extract Wikipedia text for the target person\n",
        "target_text = clean_wikipedia_text(page_py.text)\n",
        "\n",
        "# Extract Wikipedia text for the top 10 similar people (neighbors)\n",
        "neighbors_texts = []\n",
        "for idx in top_match_indices:\n",
        "    neighbor_name = df.iloc[idx]['name']\n",
        "    page_py = wiki_wiki.page(neighbor_name)\n",
        "    if page_py.exists():\n",
        "        neighbors_texts.append(clean_wikipedia_text(page_py.text))\n",
        "    else:\n",
        "        neighbors_texts.append(\"\")\n",
        "\n",
        "# Combine target person's text with neighbors' text\n",
        "all_texts = [target_text] + neighbors_texts\n",
        "\n",
        "# Vectorize the texts using CountVectorizer (Bag of Words)\n",
        "vectorizer = CountVectorizer()\n",
        "X = vectorizer.fit_transform(all_texts)\n",
        "\n",
        "# Compute cosine similarities between the target and all neighbors\n",
        "cosine_similarities_wikipedia = cosine_similarity(X[0:1], X[1:]).flatten()\n",
        "\n",
        "# Print the cosine similarities with the Wikipedia content\n",
        "print(f\"Cosine similarities with Wikipedia content: {cosine_similarities_wikipedia}\")\n"
      ],
      "metadata": {
        "colab": {
          "base_uri": "https://localhost:8080/"
        },
        "id": "Q2TWvuUx3TM_",
        "outputId": "51671377-f9a5-46eb-c99e-7e2744de7172"
      },
      "execution_count": 13,
      "outputs": [
        {
          "output_type": "stream",
          "name": "stdout",
          "text": [
            "Cosine similarities with Wikipedia content: [0.74925364 0.72391875 0.73815515 0.79895929 0.78975781 0.78658849\n",
            " 0.66042793 0.78453952 0.83136208 1.        ]\n"
          ]
        }
      ]
    },
    {
      "cell_type": "code",
      "source": [
        "# Collect valid neighbor names and their cosine similarities\n",
        "valid_neighbor_names = []\n",
        "valid_similarities = []\n",
        "\n",
        "for idx, similarity in zip(top_match_indices, cosine_similarities_wikipedia):\n",
        "    neighbor_name = df.iloc[idx]['name']\n",
        "    page_py = wiki_wiki.page(neighbor_name)\n",
        "    if page_py.exists():\n",
        "        valid_neighbor_names.append(neighbor_name)\n",
        "        valid_similarities.append(similarity)\n",
        "\n",
        "# Plotting the bar chart\n",
        "plt.figure(figsize=(12, 6))\n",
        "bars = plt.bar(valid_neighbor_names, valid_similarities, color='skyblue')\n",
        "\n",
        "# Annotate each bar with similarity value\n",
        "for bar in bars:\n",
        "    height = bar.get_height()\n",
        "    plt.text(bar.get_x() + bar.get_width()/2, height + 0.01, f\"{height:.2f}\", ha='center', va='bottom')\n",
        "\n",
        "plt.title(f\"Cosine Similarities Between '{topic}' and Top Similar People (Wikipedia Text)\")\n",
        "plt.xlabel(\"Person\")\n",
        "plt.ylabel(\"Cosine Similarity\")\n",
        "plt.xticks(rotation=45, ha='right')\n",
        "plt.ylim(0, 1.05)\n",
        "plt.grid(axis='y', linestyle='--', alpha=0.7)\n",
        "plt.tight_layout()\n",
        "plt.show()\n",
        "\n"
      ],
      "metadata": {
        "colab": {
          "base_uri": "https://localhost:8080/",
          "height": 607
        },
        "id": "CuDWHAMjbhmv",
        "outputId": "3396c694-0696-429e-8a6e-c914ff5b9c58"
      },
      "execution_count": 14,
      "outputs": [
        {
          "output_type": "display_data",
          "data": {
            "text/plain": [
              "<Figure size 1200x600 with 1 Axes>"
            ],
            "image/png": "[encoded data removed]"
          },
          "metadata": {}
        }
      ]
    },
    {
      "cell_type": "code",
      "source": [
        "import numpy as np\n",
        "\n",
        "# Rank the similarities from Bag-of-Words (Step 1)\n",
        "bag_of_words_ranking = np.argsort(similarities)[::-1]\n",
        "\n",
        "# Rank the similarities from Wikipedia content\n",
        "wikipedia_ranking = np.argsort(cosine_similarities_wikipedia)[::-1]\n",
        "\n",
        "# Print rankings\n",
        "print(f\"Bag-of-Words Ranking (similarity): {bag_of_words_ranking}\")\n",
        "print(f\"Wikipedia Content Ranking (similarity): {wikipedia_ranking}\")\n"
      ],
      "metadata": {
        "colab": {
          "base_uri": "https://localhost:8080/"
        },
        "id": "aCCmozO97jz4",
        "outputId": "090ef352-940e-488c-80b1-68d0d5a087a7"
      },
      "execution_count": 15,
      "outputs": [
        {
          "output_type": "stream",
          "name": "stdout",
          "text": [
            "Bag-of-Words Ranking (similarity): [15253 25939 40163 ... 25962  2375  4641]\n",
            "Wikipedia Content Ranking (similarity): [9 8 3 4 5 7 0 2 1 6]\n"
          ]
        }
      ]
    },
    {
      "cell_type": "code",
      "source": [
        "def clean_wikipedia_text(text):\n",
        "    text = re.sub(r'\\[\\d+\\]', '', text)\n",
        "    text = re.sub(r'\\[.*?\\]', '', text)\n",
        "    return text\n",
        "\n",
        "wiki_wiki = wikipediaapi.Wikipedia(user_agent='your-user-agent', language='en')\n",
        "\n",
        "# Get the target person's Wikipedia page\n",
        "target_name = df.iloc[person_index]['name']\n",
        "target_page = wiki_wiki.page(target_name)\n",
        "target_text = clean_wikipedia_text(target_page.text if target_page.exists() else \"\")\n",
        "\n",
        "# Get neighbor pages\n",
        "neighbor_texts = []\n",
        "valid_indices = []\n",
        "\n",
        "for idx in top_match_indices:\n",
        "    name = df.iloc[idx]['name']\n",
        "    page = wiki_wiki.page(name)\n",
        "    if page.exists():\n",
        "        neighbor_texts.append(clean_wikipedia_text(page.text))\n",
        "        valid_indices.append(idx)\n",
        "    else:\n",
        "        neighbor_texts.append(\"\")\n",
        "        valid_indices.append(idx)  # Keep index even if empty, or skip if preferred\n",
        "\n",
        "# Vectorize Wikipedia texts\n",
        "wiki_vectorizer = CountVectorizer()\n",
        "wiki_X = wiki_vectorizer.fit_transform([target_text] + neighbor_texts)\n",
        "\n",
        "# Compute cosine similarity of Wikipedia pages\n",
        "wiki_similarities = cosine_similarity(wiki_X[0:1], wiki_X[1:]).flatten()"
      ],
      "metadata": {
        "id": "GgJrZ0GyD8SR"
      },
      "execution_count": 16,
      "outputs": []
    },
    {
      "cell_type": "code",
      "source": [
        "# Create a DataFrame with both rankings\n",
        "comparison_data = []\n",
        "\n",
        "# Internal ranking names\n",
        "internal_ranked_names = df.iloc[top_match_indices]['name'].values\n",
        "\n",
        "# Wikipedia-based similarities already calculated for valid indices\n",
        "wiki_ranked_indices = [x for _, x in sorted(zip(wiki_similarities, valid_indices), reverse=True)]\n",
        "wiki_ranked_names = df.iloc[wiki_ranked_indices]['name'].values\n",
        "\n",
        "# Build comparison rows\n",
        "for i, name in enumerate(internal_ranked_names):\n",
        "    internal_rank = i + 1\n",
        "    if name in wiki_ranked_names:\n",
        "        wiki_rank = list(wiki_ranked_names).index(name) + 1\n",
        "    else:\n",
        "        wiki_rank = None\n",
        "    comparison_data.append({'Name': name, 'Internal Rank': internal_rank, 'Wikipedia Rank': wiki_rank})\n",
        "\n",
        "comparison_df = pd.DataFrame(comparison_data)\n",
        "print(comparison_df)\n"
      ],
      "metadata": {
        "colab": {
          "base_uri": "https://localhost:8080/"
        },
        "id": "gFa1TNT0dQ7r",
        "outputId": "161aab01-096a-407f-c0a9-b71c1305aae1"
      },
      "execution_count": 17,
      "outputs": [
        {
          "output_type": "stream",
          "name": "stdout",
          "text": [
            "                     Name  Internal Rank  Wikipedia Rank\n",
            "0     Hendrik C. Ferreira              1               1\n",
            "1         Jacek M. Zurada              2              10\n",
            "2  Constantine A. Balanis              3               6\n",
            "3      Norman C. Beaulieu              4               5\n",
            "4          Vijay Bhargava              5               7\n",
            "5       Larry L. Peterson              6               8\n",
            "6     Robert W. Brodersen              7               9\n",
            "7           Babak Hassibi              8               4\n",
            "8              Bill Dally              9               3\n",
            "9             Ingemar Cox             10               2\n"
          ]
        }
      ]
    },
    {
      "cell_type": "code",
      "source": [
        "# Create the comparison table, sorted by Internal Rank\n",
        "comparison_df_sorted = comparison_df.sort_values('Internal Rank').reset_index(drop=True)\n",
        "\n",
        "# Display as a nice table\n",
        "from IPython.display import display\n",
        "\n",
        "print(f\"\\nSimilarity Ranking Comparison for '{target_name}':\")\n",
        "display(comparison_df_sorted[['Name', 'Internal Rank', 'Wikipedia Rank']])\n"
      ],
      "metadata": {
        "colab": {
          "base_uri": "https://localhost:8080/",
          "height": 398
        },
        "id": "LwAUo_aNfCjV",
        "outputId": "6bddd2f4-0a9b-4394-91ca-8aea23ff39a2"
      },
      "execution_count": 18,
      "outputs": [
        {
          "output_type": "stream",
          "name": "stdout",
          "text": [
            "\n",
            "Similarity Ranking Comparison for 'Xiaodong Wang (electrical engineer)':\n"
          ]
        },
        {
          "output_type": "display_data",
          "data": {
            "text/plain": [
              "                     Name  Internal Rank  Wikipedia Rank\n",
              "0     Hendrik C. Ferreira              1               1\n",
              "1         Jacek M. Zurada              2              10\n",
              "2  Constantine A. Balanis              3               6\n",
              "3      Norman C. Beaulieu              4               5\n",
              "4          Vijay Bhargava              5               7\n",
              "5       Larry L. Peterson              6               8\n",
              "6     Robert W. Brodersen              7               9\n",
              "7           Babak Hassibi              8               4\n",
              "8              Bill Dally              9               3\n",
              "9             Ingemar Cox             10               2"
            ],
            "text/html": [
              "\n",
              "  <div id=\"df-95c03a5b-5161-4917-93fc-160feb147321\" class=\"colab-df-container\">\n",
              "    <div>\n",
              "<style scoped>\n",
              "    .dataframe tbody tr th:only-of-type {\n",
              "        vertical-align: middle;\n",
              "    }\n",
              "\n",
              "    .dataframe tbody tr th {\n",
              "        vertical-align: top;\n",
              "    }\n",
              "\n",
              "    .dataframe thead th {\n",
              "        text-align: right;\n",
              "    }\n",
              "</style>\n",
              "<table border=\"1\" class=\"dataframe\">\n",
              "  <thead>\n",
              "    <tr style=\"text-align: right;\">\n",
              "      <th></th>\n",
              "      <th>Name</th>\n",
              "      <th>Internal Rank</th>\n",
              "      <th>Wikipedia Rank</th>\n",
              "    </tr>\n",
              "  </thead>\n",
              "  <tbody>\n",
              "    <tr>\n",
              "      <th>0</th>\n",
              "      <td>Hendrik C. Ferreira</td>\n",
              "      <td>1</td>\n",
              "      <td>1</td>\n",
              "    </tr>\n",
              "    <tr>\n",
              "      <th>1</th>\n",
              "      <td>Jacek M. Zurada</td>\n",
              "      <td>2</td>\n",
              "      <td>10</td>\n",
              "    </tr>\n",
              "    <tr>\n",
              "      <th>2</th>\n",
              "      <td>Constantine A. Balanis</td>\n",
              "      <td>3</td>\n",
              "      <td>6</td>\n",
              "    </tr>\n",
              "    <tr>\n",
              "      <th>3</th>\n",
              "      <td>Norman C. Beaulieu</td>\n",
              "      <td>4</td>\n",
              "      <td>5</td>\n",
              "    </tr>\n",
              "    <tr>\n",
              "      <th>4</th>\n",
              "      <td>Vijay Bhargava</td>\n",
              "      <td>5</td>\n",
              "      <td>7</td>\n",
              "    </tr>\n",
              "    <tr>\n",
              "      <th>5</th>\n",
              "      <td>Larry L. Peterson</td>\n",
              "      <td>6</td>\n",
              "      <td>8</td>\n",
              "    </tr>\n",
              "    <tr>\n",
              "      <th>6</th>\n",
              "      <td>Robert W. Brodersen</td>\n",
              "      <td>7</td>\n",
              "      <td>9</td>\n",
              "    </tr>\n",
              "    <tr>\n",
              "      <th>7</th>\n",
              "      <td>Babak Hassibi</td>\n",
              "      <td>8</td>\n",
              "      <td>4</td>\n",
              "    </tr>\n",
              "    <tr>\n",
              "      <th>8</th>\n",
              "      <td>Bill Dally</td>\n",
              "      <td>9</td>\n",
              "      <td>3</td>\n",
              "    </tr>\n",
              "    <tr>\n",
              "      <th>9</th>\n",
              "      <td>Ingemar Cox</td>\n",
              "      <td>10</td>\n",
              "      <td>2</td>\n",
              "    </tr>\n",
              "  </tbody>\n",
              "</table>\n",
              "</div>\n",
              "    <div class=\"colab-df-buttons\">\n",
              "\n",
              "  <div class=\"colab-df-container\">\n",
              "    <button class=\"colab-df-convert\" onclick=\"convertToInteractive('df-95c03a5b-5161-4917-93fc-160feb147321')\"\n",
              "            title=\"Convert this dataframe to an interactive table.\"\n",
              "            style=\"display:none;\">\n",
              "\n",
              "  <svg xmlns=\"http://www.w3.org/2000/svg\" height=\"24px\" viewBox=\"0 -960 960 960\">\n",
              "    <path d=\"M120-120v-720h720v720H120Zm60-500h600v-160H180v160Zm220 220h160v-160H400v160Zm0 220h160v-160H400v160ZM180-400h160v-160H180v160Zm440 0h160v-160H620v160ZM180-180h160v-160H180v160Zm440 0h160v-160H620v160Z\"/>\n",
              "  </svg>\n",
              "    </button>\n",
              "\n",
              "  <style>\n",
              "    .colab-df-container {\n",
              "      display:flex;\n",
              "      gap: 12px;\n",
              "    }\n",
              "\n",
              "    .colab-df-convert {\n",
              "      background-color: #E8F0FE;\n",
              "      border: none;\n",
              "      border-radius: 50%;\n",
              "      cursor: pointer;\n",
              "      display: none;\n",
              "      fill: #1967D2;\n",
              "      height: 32px;\n",
              "      padding: 0 0 0 0;\n",
              "      width: 32px;\n",
              "    }\n",
              "\n",
              "    .colab-df-convert:hover {\n",
              "      background-color: #E2EBFA;\n",
              "      box-shadow: 0px 1px 2px rgba(60, 64, 67, 0.3), 0px 1px 3px 1px rgba(60, 64, 67, 0.15);\n",
              "      fill: #174EA6;\n",
              "    }\n",
              "\n",
              "    .colab-df-buttons div {\n",
              "      margin-bottom: 4px;\n",
              "    }\n",
              "\n",
              "    [theme=dark] .colab-df-convert {\n",
              "      background-color: #3B4455;\n",
              "      fill: #D2E3FC;\n",
              "    }\n",
              "\n",
              "    [theme=dark] .colab-df-convert:hover {\n",
              "      background-color: #434B5C;\n",
              "      box-shadow: 0px 1px 3px 1px rgba(0, 0, 0, 0.15);\n",
              "      filter: drop-shadow(0px 1px 2px rgba(0, 0, 0, 0.3));\n",
              "      fill: #FFFFFF;\n",
              "    }\n",
              "  </style>\n",
              "\n",
              "    <script>\n",
              "      const buttonEl =\n",
              "        document.querySelector('#df-95c03a5b-5161-4917-93fc-160feb147321 button.colab-df-convert');\n",
              "      buttonEl.style.display =\n",
              "        google.colab.kernel.accessAllowed ? 'block' : 'none';\n",
              "\n",
              "      async function convertToInteractive(key) {\n",
              "        const element = document.querySelector('#df-95c03a5b-5161-4917-93fc-160feb147321');\n",
              "        const dataTable =\n",
              "          await google.colab.kernel.invokeFunction('convertToInteractive',\n",
              "                                                    [key], {});\n",
              "        if (!dataTable) return;\n",
              "\n",
              "        const docLinkHtml = 'Like what you see? Visit the ' +\n",
              "          '<a target=\"_blank\" href=https://colab.research.google.com/notebooks/data_table.ipynb>data table notebook</a>'\n",
              "          + ' to learn more about interactive tables.';\n",
              "        element.innerHTML = '';\n",
              "        dataTable['output_type'] = 'display_data';\n",
              "        await google.colab.output.renderOutput(dataTable, element);\n",
              "        const docLink = document.createElement('div');\n",
              "        docLink.innerHTML = docLinkHtml;\n",
              "        element.appendChild(docLink);\n",
              "      }\n",
              "    </script>\n",
              "  </div>\n",
              "\n",
              "\n",
              "    <div id=\"df-cc7654c7-d1cc-4814-8749-f4c471e9ed42\">\n",
              "      <button class=\"colab-df-quickchart\" onclick=\"quickchart('df-cc7654c7-d1cc-4814-8749-f4c471e9ed42')\"\n",
              "                title=\"Suggest charts\"\n",
              "                style=\"display:none;\">\n",
              "\n",
              "<svg xmlns=\"http://www.w3.org/2000/svg\" height=\"24px\"viewBox=\"0 0 24 24\"\n",
              "     width=\"24px\">\n",
              "    <g>\n",
              "        <path d=\"M19 3H5c-1.1 0-2 .9-2 2v14c0 1.1.9 2 2 2h14c1.1 0 2-.9 2-2V5c0-1.1-.9-2-2-2zM9 17H7v-7h2v7zm4 0h-2V7h2v10zm4 0h-2v-4h2v4z\"/>\n",
              "    </g>\n",
              "</svg>\n",
              "      </button>\n",
              "\n",
              "<style>\n",
              "  .colab-df-quickchart {\n",
              "      --bg-color: #E8F0FE;\n",
              "      --fill-color: #1967D2;\n",
              "      --hover-bg-color: #E2EBFA;\n",
              "      --hover-fill-color: #174EA6;\n",
              "      --disabled-fill-color: #AAA;\n",
              "      --disabled-bg-color: #DDD;\n",
              "  }\n",
              "\n",
              "  [theme=dark] .colab-df-quickchart {\n",
              "      --bg-color: #3B4455;\n",
              "      --fill-color: #D2E3FC;\n",
              "      --hover-bg-color: #434B5C;\n",
              "      --hover-fill-color: #FFFFFF;\n",
              "      --disabled-bg-color: #3B4455;\n",
              "      --disabled-fill-color: #666;\n",
              "  }\n",
              "\n",
              "  .colab-df-quickchart {\n",
              "    background-color: var(--bg-color);\n",
              "    border: none;\n",
              "    border-radius: 50%;\n",
              "    cursor: pointer;\n",
              "    display: none;\n",
              "    fill: var(--fill-color);\n",
              "    height: 32px;\n",
              "    padding: 0;\n",
              "    width: 32px;\n",
              "  }\n",
              "\n",
              "  .colab-df-quickchart:hover {\n",
              "    background-color: var(--hover-bg-color);\n",
              "    box-shadow: 0 1px 2px rgba(60, 64, 67, 0.3), 0 1px 3px 1px rgba(60, 64, 67, 0.15);\n",
              "    fill: var(--button-hover-fill-color);\n",
              "  }\n",
              "\n",
              "  .colab-df-quickchart-complete:disabled,\n",
              "  .colab-df-quickchart-complete:disabled:hover {\n",
              "    background-color: var(--disabled-bg-color);\n",
              "    fill: var(--disabled-fill-color);\n",
              "    box-shadow: none;\n",
              "  }\n",
              "\n",
              "  .colab-df-spinner {\n",
              "    border: 2px solid var(--fill-color);\n",
              "    border-color: transparent;\n",
              "    border-bottom-color: var(--fill-color);\n",
              "    animation:\n",
              "      spin 1s steps(1) infinite;\n",
              "  }\n",
              "\n",
              "  @keyframes spin {\n",
              "    0% {\n",
              "      border-color: transparent;\n",
              "      border-bottom-color: var(--fill-color);\n",
              "      border-left-color: var(--fill-color);\n",
              "    }\n",
              "    20% {\n",
              "      border-color: transparent;\n",
              "      border-left-color: var(--fill-color);\n",
              "      border-top-color: var(--fill-color);\n",
              "    }\n",
              "    30% {\n",
              "      border-color: transparent;\n",
              "      border-left-color: var(--fill-color);\n",
              "      border-top-color: var(--fill-color);\n",
              "      border-right-color: var(--fill-color);\n",
              "    }\n",
              "    40% {\n",
              "      border-color: transparent;\n",
              "      border-right-color: var(--fill-color);\n",
              "      border-top-color: var(--fill-color);\n",
              "    }\n",
              "    60% {\n",
              "      border-color: transparent;\n",
              "      border-right-color: var(--fill-color);\n",
              "    }\n",
              "    80% {\n",
              "      border-color: transparent;\n",
              "      border-right-color: var(--fill-color);\n",
              "      border-bottom-color: var(--fill-color);\n",
              "    }\n",
              "    90% {\n",
              "      border-color: transparent;\n",
              "      border-bottom-color: var(--fill-color);\n",
              "    }\n",
              "  }\n",
              "</style>\n",
              "\n",
              "      <script>\n",
              "        async function quickchart(key) {\n",
              "          const quickchartButtonEl =\n",
              "            document.querySelector('#' + key + ' button');\n",
              "          quickchartButtonEl.disabled = true;  // To prevent multiple clicks.\n",
              "          quickchartButtonEl.classList.add('colab-df-spinner');\n",
              "          try {\n",
              "            const charts = await google.colab.kernel.invokeFunction(\n",
              "                'suggestCharts', [key], {});\n",
              "          } catch (error) {\n",
              "            console.error('Error during call to suggestCharts:', error);\n",
              "          }\n",
              "          quickchartButtonEl.classList.remove('colab-df-spinner');\n",
              "          quickchartButtonEl.classList.add('colab-df-quickchart-complete');\n",
              "        }\n",
              "        (() => {\n",
              "          let quickchartButtonEl =\n",
              "            document.querySelector('#df-cc7654c7-d1cc-4814-8749-f4c471e9ed42 button');\n",
              "          quickchartButtonEl.style.display =\n",
              "            google.colab.kernel.accessAllowed ? 'block' : 'none';\n",
              "        })();\n",
              "      </script>\n",
              "    </div>\n",
              "\n",
              "    </div>\n",
              "  </div>\n"
            ],
            "application/vnd.google.colaboratory.intrinsic+json": {
              "type": "dataframe",
              "summary": "{\n  \"name\": \"display(comparison_df_sorted[['Name', 'Internal Rank', 'Wikipedia Rank']])\",\n  \"rows\": 10,\n  \"fields\": [\n    {\n      \"column\": \"Name\",\n      \"properties\": {\n        \"dtype\": \"string\",\n        \"num_unique_values\": 10,\n        \"samples\": [\n          \"Bill Dally\",\n          \"Jacek M. Zurada\",\n          \"Larry L. Peterson\"\n        ],\n        \"semantic_type\": \"\",\n        \"description\": \"\"\n      }\n    },\n    {\n      \"column\": \"Internal Rank\",\n      \"properties\": {\n        \"dtype\": \"number\",\n        \"std\": 3,\n        \"min\": 1,\n        \"max\": 10,\n        \"num_unique_values\": 10,\n        \"samples\": [\n          9,\n          2,\n          6\n        ],\n        \"semantic_type\": \"\",\n        \"description\": \"\"\n      }\n    },\n    {\n      \"column\": \"Wikipedia Rank\",\n      \"properties\": {\n        \"dtype\": \"number\",\n        \"std\": 3,\n        \"min\": 1,\n        \"max\": 10,\n        \"num_unique_values\": 10,\n        \"samples\": [\n          3,\n          10,\n          8\n        ],\n        \"semantic_type\": \"\",\n        \"description\": \"\"\n      }\n    }\n  ]\n}"
            }
          },
          "metadata": {}
        }
      ]
    },
    {
      "cell_type": "code",
      "source": [
        "# Ensure 'Rank Difference' is calculated first\n",
        "comparison_df_sorted['Rank Difference'] = (\n",
        "    comparison_df_sorted['Internal Rank'] - comparison_df_sorted['Wikipedia Rank']\n",
        ").abs()\n"
      ],
      "metadata": {
        "id": "5xfV7d3bfmuo"
      },
      "execution_count": 19,
      "outputs": []
    },
    {
      "cell_type": "code",
      "source": [
        "styled_table = comparison_df_sorted[['Name', 'Internal Rank', 'Wikipedia Rank', 'Rank Difference']].style\\\n",
        "    .background_gradient(subset=['Rank Difference'], cmap='Reds')\\\n",
        "    .bar(subset=['Internal Rank', 'Wikipedia Rank'], color='#5fba7d')\\\n",
        "    .set_caption(f\"Similarity Ranking Comparison for '{target_name}'\")\\\n",
        "    .set_table_styles([\n",
        "        {'selector': 'caption', 'props': [('caption-side', 'top'), ('font-size', '16px'), ('font-weight', 'bold')]},\n",
        "    ])\\\n",
        "    .hide(axis='index')\n",
        "\n",
        "styled_table\n"
      ],
      "metadata": {
        "id": "jquRP3nMf2p7",
        "outputId": "f198805a-c6b1-496d-9d75-d4e924d9eb1a",
        "colab": {
          "base_uri": "https://localhost:8080/",
          "height": 383
        }
      },
      "execution_count": 20,
      "outputs": [
        {
          "output_type": "execute_result",
          "data": {
            "text/plain": [
              "<pandas.io.formats.style.Styler at 0x7f7008ddbe90>"
            ],
            "text/html": [
              "<style type=\"text/css\">\n",
              "#T_c8b09 caption {\n",
              "  caption-side: top;\n",
              "  font-size: 16px;\n",
              "  font-weight: bold;\n",
              "}\n",
              "#T_c8b09_row0_col1, #T_c8b09_row0_col2 {\n",
              "  width: 10em;\n",
              "  background: linear-gradient(90deg, #5fba7d 10.0%, transparent 10.0%);\n",
              "}\n",
              "#T_c8b09_row0_col3 {\n",
              "  background-color: #fff5f0;\n",
              "  color: #000000;\n",
              "}\n",
              "#T_c8b09_row1_col1, #T_c8b09_row9_col2 {\n",
              "  width: 10em;\n",
              "  background: linear-gradient(90deg, #5fba7d 20.0%, transparent 20.0%);\n",
              "}\n",
              "#T_c8b09_row1_col2, #T_c8b09_row9_col1 {\n",
              "  width: 10em;\n",
              "  background: linear-gradient(90deg, #5fba7d 100.0%, transparent 100.0%);\n",
              "}\n",
              "#T_c8b09_row1_col3, #T_c8b09_row9_col3 {\n",
              "  background-color: #67000d;\n",
              "  color: #f1f1f1;\n",
              "}\n",
              "#T_c8b09_row2_col1, #T_c8b09_row8_col2 {\n",
              "  width: 10em;\n",
              "  background: linear-gradient(90deg, #5fba7d 30.0%, transparent 30.0%);\n",
              "}\n",
              "#T_c8b09_row2_col2, #T_c8b09_row5_col1 {\n",
              "  width: 10em;\n",
              "  background: linear-gradient(90deg, #5fba7d 60.0%, transparent 60.0%);\n",
              "}\n",
              "#T_c8b09_row2_col3 {\n",
              "  background-color: #fc9272;\n",
              "  color: #000000;\n",
              "}\n",
              "#T_c8b09_row3_col1, #T_c8b09_row7_col2 {\n",
              "  width: 10em;\n",
              "  background: linear-gradient(90deg, #5fba7d 40.0%, transparent 40.0%);\n",
              "}\n",
              "#T_c8b09_row3_col2, #T_c8b09_row4_col1 {\n",
              "  width: 10em;\n",
              "  background: linear-gradient(90deg, #5fba7d 50.0%, transparent 50.0%);\n",
              "}\n",
              "#T_c8b09_row3_col3 {\n",
              "  background-color: #fee0d2;\n",
              "  color: #000000;\n",
              "}\n",
              "#T_c8b09_row4_col2, #T_c8b09_row6_col1 {\n",
              "  width: 10em;\n",
              "  background: linear-gradient(90deg, #5fba7d 70.0%, transparent 70.0%);\n",
              "}\n",
              "#T_c8b09_row4_col3, #T_c8b09_row5_col3, #T_c8b09_row6_col3 {\n",
              "  background-color: #fcbba1;\n",
              "  color: #000000;\n",
              "}\n",
              "#T_c8b09_row5_col2, #T_c8b09_row7_col1 {\n",
              "  width: 10em;\n",
              "  background: linear-gradient(90deg, #5fba7d 80.0%, transparent 80.0%);\n",
              "}\n",
              "#T_c8b09_row6_col2, #T_c8b09_row8_col1 {\n",
              "  width: 10em;\n",
              "  background: linear-gradient(90deg, #5fba7d 90.0%, transparent 90.0%);\n",
              "}\n",
              "#T_c8b09_row7_col3 {\n",
              "  background-color: #fb694a;\n",
              "  color: #f1f1f1;\n",
              "}\n",
              "#T_c8b09_row8_col3 {\n",
              "  background-color: #ca181d;\n",
              "  color: #f1f1f1;\n",
              "}\n",
              "</style>\n",
              "<table id=\"T_c8b09\" class=\"dataframe\">\n",
              "  <caption>Similarity Ranking Comparison for 'Xiaodong Wang (electrical engineer)'</caption>\n",
              "  <thead>\n",
              "    <tr>\n",
              "      <th id=\"T_c8b09_level0_col0\" class=\"col_heading level0 col0\" >Name</th>\n",
              "      <th id=\"T_c8b09_level0_col1\" class=\"col_heading level0 col1\" >Internal Rank</th>\n",
              "      <th id=\"T_c8b09_level0_col2\" class=\"col_heading level0 col2\" >Wikipedia Rank</th>\n",
              "      <th id=\"T_c8b09_level0_col3\" class=\"col_heading level0 col3\" >Rank Difference</th>\n",
              "    </tr>\n",
              "  </thead>\n",
              "  <tbody>\n",
              "    <tr>\n",
              "      <td id=\"T_c8b09_row0_col0\" class=\"data row0 col0\" >Hendrik C. Ferreira</td>\n",
              "      <td id=\"T_c8b09_row0_col1\" class=\"data row0 col1\" >1</td>\n",
              "      <td id=\"T_c8b09_row0_col2\" class=\"data row0 col2\" >1</td>\n",
              "      <td id=\"T_c8b09_row0_col3\" class=\"data row0 col3\" >0</td>\n",
              "    </tr>\n",
              "    <tr>\n",
              "      <td id=\"T_c8b09_row1_col0\" class=\"data row1 col0\" >Jacek M. Zurada</td>\n",
              "      <td id=\"T_c8b09_row1_col1\" class=\"data row1 col1\" >2</td>\n",
              "      <td id=\"T_c8b09_row1_col2\" class=\"data row1 col2\" >10</td>\n",
              "      <td id=\"T_c8b09_row1_col3\" class=\"data row1 col3\" >8</td>\n",
              "    </tr>\n",
              "    <tr>\n",
              "      <td id=\"T_c8b09_row2_col0\" class=\"data row2 col0\" >Constantine A. Balanis</td>\n",
              "      <td id=\"T_c8b09_row2_col1\" class=\"data row2 col1\" >3</td>\n",
              "      <td id=\"T_c8b09_row2_col2\" class=\"data row2 col2\" >6</td>\n",
              "      <td id=\"T_c8b09_row2_col3\" class=\"data row2 col3\" >3</td>\n",
              "    </tr>\n",
              "    <tr>\n",
              "      <td id=\"T_c8b09_row3_col0\" class=\"data row3 col0\" >Norman C. Beaulieu</td>\n",
              "      <td id=\"T_c8b09_row3_col1\" class=\"data row3 col1\" >4</td>\n",
              "      <td id=\"T_c8b09_row3_col2\" class=\"data row3 col2\" >5</td>\n",
              "      <td id=\"T_c8b09_row3_col3\" class=\"data row3 col3\" >1</td>\n",
              "    </tr>\n",
              "    <tr>\n",
              "      <td id=\"T_c8b09_row4_col0\" class=\"data row4 col0\" >Vijay Bhargava</td>\n",
              "      <td id=\"T_c8b09_row4_col1\" class=\"data row4 col1\" >5</td>\n",
              "      <td id=\"T_c8b09_row4_col2\" class=\"data row4 col2\" >7</td>\n",
              "      <td id=\"T_c8b09_row4_col3\" class=\"data row4 col3\" >2</td>\n",
              "    </tr>\n",
              "    <tr>\n",
              "      <td id=\"T_c8b09_row5_col0\" class=\"data row5 col0\" >Larry L. Peterson</td>\n",
              "      <td id=\"T_c8b09_row5_col1\" class=\"data row5 col1\" >6</td>\n",
              "      <td id=\"T_c8b09_row5_col2\" class=\"data row5 col2\" >8</td>\n",
              "      <td id=\"T_c8b09_row5_col3\" class=\"data row5 col3\" >2</td>\n",
              "    </tr>\n",
              "    <tr>\n",
              "      <td id=\"T_c8b09_row6_col0\" class=\"data row6 col0\" >Robert W. Brodersen</td>\n",
              "      <td id=\"T_c8b09_row6_col1\" class=\"data row6 col1\" >7</td>\n",
              "      <td id=\"T_c8b09_row6_col2\" class=\"data row6 col2\" >9</td>\n",
              "      <td id=\"T_c8b09_row6_col3\" class=\"data row6 col3\" >2</td>\n",
              "    </tr>\n",
              "    <tr>\n",
              "      <td id=\"T_c8b09_row7_col0\" class=\"data row7 col0\" >Babak Hassibi</td>\n",
              "      <td id=\"T_c8b09_row7_col1\" class=\"data row7 col1\" >8</td>\n",
              "      <td id=\"T_c8b09_row7_col2\" class=\"data row7 col2\" >4</td>\n",
              "      <td id=\"T_c8b09_row7_col3\" class=\"data row7 col3\" >4</td>\n",
              "    </tr>\n",
              "    <tr>\n",
              "      <td id=\"T_c8b09_row8_col0\" class=\"data row8 col0\" >Bill Dally</td>\n",
              "      <td id=\"T_c8b09_row8_col1\" class=\"data row8 col1\" >9</td>\n",
              "      <td id=\"T_c8b09_row8_col2\" class=\"data row8 col2\" >3</td>\n",
              "      <td id=\"T_c8b09_row8_col3\" class=\"data row8 col3\" >6</td>\n",
              "    </tr>\n",
              "    <tr>\n",
              "      <td id=\"T_c8b09_row9_col0\" class=\"data row9 col0\" >Ingemar Cox</td>\n",
              "      <td id=\"T_c8b09_row9_col1\" class=\"data row9 col1\" >10</td>\n",
              "      <td id=\"T_c8b09_row9_col2\" class=\"data row9 col2\" >2</td>\n",
              "      <td id=\"T_c8b09_row9_col3\" class=\"data row9 col3\" >8</td>\n",
              "    </tr>\n",
              "  </tbody>\n",
              "</table>\n"
            ]
          },
          "metadata": {},
          "execution_count": 20
        }
      ]
    },
    {
      "cell_type": "code",
      "source": [
        "# Drop rows with missing Wikipedia ranks\n",
        "plot_df = comparison_df.dropna().reset_index(drop=True)\n",
        "\n",
        "# Prepare bar positions\n",
        "x = np.arange(len(plot_df))  # number of people\n",
        "width = 0.35  # width of the bars\n",
        "\n",
        "# Create the plot\n",
        "plt.figure(figsize=(12, 6))\n",
        "plt.bar(x - width/2, plot_df['Internal Rank'], width, label='Internal Rank', color='steelblue')\n",
        "plt.bar(x + width/2, plot_df['Wikipedia Rank'], width, label='Wikipedia Rank', color='orange')\n",
        "\n",
        "# Add labels and title\n",
        "plt.xticks(x, plot_df['Name'], rotation=45, ha='right')\n",
        "plt.ylabel('Rank (Lower = More Similar)')\n",
        "plt.title(f\"Similarity Ranking Comparison for '{target_name}'\")\n",
        "plt.legend()\n",
        "plt.tight_layout()\n",
        "plt.grid(axis='y', linestyle='--', alpha=0.7)\n",
        "plt.show()\n",
        "\n"
      ],
      "metadata": {
        "colab": {
          "base_uri": "https://localhost:8080/",
          "height": 607
        },
        "id": "tM0Sy2vWdZ3Q",
        "outputId": "52c1423f-abc8-4327-d4a9-92ce3ae4e590"
      },
      "execution_count": 21,
      "outputs": [
        {
          "output_type": "display_data",
          "data": {
            "text/plain": [
              "<Figure size 1200x600 with 1 Axes>"
            ],
            "image/png": "[encoded data removed]"
          },
          "metadata": {}
        }
      ]
    },
    {
      "cell_type": "code",
      "source": [
        "# Rank: higher similarity = higher rank (closer)\n",
        "bow_ranking = np.argsort(similarities[valid_indices])[::-1]\n",
        "wiki_ranking = np.argsort(wiki_similarities)[::-1]\n",
        "\n",
        "# Compute rank differences\n",
        "rank_differences = np.abs(bow_ranking - wiki_ranking)"
      ],
      "metadata": {
        "id": "nvm4QaAKDuFT"
      },
      "execution_count": 22,
      "outputs": []
    },
    {
      "cell_type": "code",
      "source": [
        "# Step 1: Get similarities for the 10 neighbors from the Bag-of-Words full similarity list\n",
        "bow_scores_for_neighbors = similarities[top_match_indices]\n",
        "\n",
        "# Step 2: Get ranks (0 = most similar) based on scores\n",
        "bow_rank_order = np.argsort(bow_scores_for_neighbors)[::-1]\n",
        "wiki_rank_order = np.argsort(wiki_similarities)[::-1]\n",
        "\n",
        "# Step 3: Create arrays that represent rank position of each neighbor\n",
        "# Index is original neighbor index (0–9), value is their rank\n",
        "bow_ranks = np.empty_like(bow_rank_order)\n",
        "bow_ranks[bow_rank_order] = np.arange(10)\n",
        "\n",
        "wiki_ranks = np.empty_like(wiki_rank_order)\n",
        "wiki_ranks[wiki_rank_order] = np.arange(10)\n",
        "\n",
        "# Step 4: Now compare the rankings directly\n",
        "rank_differences = np.abs(bow_ranks - wiki_ranks)\n"
      ],
      "metadata": {
        "id": "4WclvkUa1C9p"
      },
      "execution_count": 23,
      "outputs": []
    },
    {
      "cell_type": "code",
      "source": [
        "plt.figure(figsize=(10, 6))\n",
        "plt.bar(range(10), rank_differences, color='skyblue')\n",
        "plt.xlabel('Neighbor Index (0–9)')\n",
        "plt.ylabel('Ranking Difference')\n",
        "plt.title('Ranking Difference: Bag-of-Words vs Wikipedia Content')\n",
        "plt.xticks(range(10), [f'#{i+1}' for i in range(10)], rotation=45)\n",
        "plt.tight_layout()\n",
        "plt.show()"
      ],
      "metadata": {
        "colab": {
          "base_uri": "https://localhost:8080/",
          "height": 607
        },
        "id": "FbD6wFyL1C66",
        "outputId": "54fa6a41-866f-4f31-a30d-79ee9508df69"
      },
      "execution_count": 24,
      "outputs": [
        {
          "output_type": "display_data",
          "data": {
            "text/plain": [
              "<Figure size 1000x600 with 1 Axes>"
            ],
            "image/png": "[encoded data removed]"
          },
          "metadata": {}
        }
      ]
    },
    {
      "cell_type": "code",
      "source": [],
      "metadata": {
        "id": "NC7tVjveFNog"
      },
      "execution_count": 24,
      "outputs": []
    },
    {
      "cell_type": "markdown",
      "source": [
        "## Part 3"
      ],
      "metadata": {
        "id": "IXg4xS1gFLu3"
      }
    },
    {
      "cell_type": "code",
      "source": [
        "!pip install ipywidgets"
      ],
      "metadata": {
        "colab": {
          "base_uri": "https://localhost:8080/"
        },
        "id": "BkIxPxlsFOjn",
        "outputId": "75900438-dfe2-47d6-9e36-d17b0f027097"
      },
      "execution_count": 25,
      "outputs": [
        {
          "output_type": "stream",
          "name": "stdout",
          "text": [
            "Requirement already satisfied: ipywidgets in /usr/local/lib/python3.11/dist-packages (7.7.1)\n",
            "Requirement already satisfied: ipykernel>=4.5.1 in /usr/local/lib/python3.11/dist-packages (from ipywidgets) (6.17.1)\n",
            "Requirement already satisfied: ipython-genutils~=0.2.0 in /usr/local/lib/python3.11/dist-packages (from ipywidgets) (0.2.0)\n",
            "Requirement already satisfied: traitlets>=4.3.1 in /usr/local/lib/python3.11/dist-packages (from ipywidgets) (5.7.1)\n",
            "Requirement already satisfied: widgetsnbextension~=3.6.0 in /usr/local/lib/python3.11/dist-packages (from ipywidgets) (3.6.10)\n",
            "Requirement already satisfied: ipython>=4.0.0 in /usr/local/lib/python3.11/dist-packages (from ipywidgets) (7.34.0)\n",
            "Requirement already satisfied: jupyterlab-widgets>=1.0.0 in /usr/local/lib/python3.11/dist-packages (from ipywidgets) (3.0.14)\n",
            "Requirement already satisfied: debugpy>=1.0 in /usr/local/lib/python3.11/dist-packages (from ipykernel>=4.5.1->ipywidgets) (1.8.0)\n",
            "Requirement already satisfied: jupyter-client>=6.1.12 in /usr/local/lib/python3.11/dist-packages (from ipykernel>=4.5.1->ipywidgets) (6.1.12)\n",
            "Requirement already satisfied: matplotlib-inline>=0.1 in /usr/local/lib/python3.11/dist-packages (from ipykernel>=4.5.1->ipywidgets) (0.1.7)\n",
            "Requirement already satisfied: nest-asyncio in /usr/local/lib/python3.11/dist-packages (from ipykernel>=4.5.1->ipywidgets) (1.6.0)\n",
            "Requirement already satisfied: packaging in /usr/local/lib/python3.11/dist-packages (from ipykernel>=4.5.1->ipywidgets) (24.2)\n",
            "Requirement already satisfied: psutil in /usr/local/lib/python3.11/dist-packages (from ipykernel>=4.5.1->ipywidgets) (5.9.5)\n",
            "Requirement already satisfied: pyzmq>=17 in /usr/local/lib/python3.11/dist-packages (from ipykernel>=4.5.1->ipywidgets) (24.0.1)\n",
            "Requirement already satisfied: tornado>=6.1 in /usr/local/lib/python3.11/dist-packages (from ipykernel>=4.5.1->ipywidgets) (6.4.2)\n",
            "Requirement already satisfied: setuptools>=18.5 in /usr/local/lib/python3.11/dist-packages (from ipython>=4.0.0->ipywidgets) (75.2.0)\n",
            "Collecting jedi>=0.16 (from ipython>=4.0.0->ipywidgets)\n",
            "  Downloading jedi-0.19.2-py2.py3-none-any.whl.metadata (22 kB)\n",
            "Requirement already satisfied: decorator in /usr/local/lib/python3.11/dist-packages (from ipython>=4.0.0->ipywidgets) (4.4.2)\n",
            "Requirement already satisfied: pickleshare in /usr/local/lib/python3.11/dist-packages (from ipython>=4.0.0->ipywidgets) (0.7.5)\n",
            "Requirement already satisfied: prompt-toolkit!=3.0.0,!=3.0.1,<3.1.0,>=2.0.0 in /usr/local/lib/python3.11/dist-packages (from ipython>=4.0.0->ipywidgets) (3.0.51)\n",
            "Requirement already satisfied: pygments in /usr/local/lib/python3.11/dist-packages (from ipython>=4.0.0->ipywidgets) (2.19.1)\n",
            "Requirement already satisfied: backcall in /usr/local/lib/python3.11/dist-packages (from ipython>=4.0.0->ipywidgets) (0.2.0)\n",
            "Requirement already satisfied: pexpect>4.3 in /usr/local/lib/python3.11/dist-packages (from ipython>=4.0.0->ipywidgets) (4.9.0)\n",
            "Requirement already satisfied: notebook>=4.4.1 in /usr/local/lib/python3.11/dist-packages (from widgetsnbextension~=3.6.0->ipywidgets) (6.5.7)\n",
            "Requirement already satisfied: parso<0.9.0,>=0.8.4 in /usr/local/lib/python3.11/dist-packages (from jedi>=0.16->ipython>=4.0.0->ipywidgets) (0.8.4)\n",
            "Requirement already satisfied: jupyter-core>=4.6.0 in /usr/local/lib/python3.11/dist-packages (from jupyter-client>=6.1.12->ipykernel>=4.5.1->ipywidgets) (5.7.2)\n",
            "Requirement already satisfied: python-dateutil>=2.1 in /usr/local/lib/python3.11/dist-packages (from jupyter-client>=6.1.12->ipykernel>=4.5.1->ipywidgets) (2.9.0.post0)\n",
            "Requirement already satisfied: jinja2 in /usr/local/lib/python3.11/dist-packages (from notebook>=4.4.1->widgetsnbextension~=3.6.0->ipywidgets) (3.1.6)\n",
            "Requirement already satisfied: argon2-cffi in /usr/local/lib/python3.11/dist-packages (from notebook>=4.4.1->widgetsnbextension~=3.6.0->ipywidgets) (23.1.0)\n",
            "Requirement already satisfied: nbformat in /usr/local/lib/python3.11/dist-packages (from notebook>=4.4.1->widgetsnbextension~=3.6.0->ipywidgets) (5.10.4)\n",
            "Requirement already satisfied: nbconvert>=5 in /usr/local/lib/python3.11/dist-packages (from notebook>=4.4.1->widgetsnbextension~=3.6.0->ipywidgets) (7.16.6)\n",
            "Requirement already satisfied: Send2Trash>=1.8.0 in /usr/local/lib/python3.11/dist-packages (from notebook>=4.4.1->widgetsnbextension~=3.6.0->ipywidgets) (1.8.3)\n",
            "Requirement already satisfied: terminado>=0.8.3 in /usr/local/lib/python3.11/dist-packages (from notebook>=4.4.1->widgetsnbextension~=3.6.0->ipywidgets) (0.18.1)\n",
            "Requirement already satisfied: prometheus-client in /usr/local/lib/python3.11/dist-packages (from notebook>=4.4.1->widgetsnbextension~=3.6.0->ipywidgets) (0.21.1)\n",
            "Requirement already satisfied: nbclassic>=0.4.7 in /usr/local/lib/python3.11/dist-packages (from notebook>=4.4.1->widgetsnbextension~=3.6.0->ipywidgets) (1.3.0)\n",
            "Requirement already satisfied: ptyprocess>=0.5 in /usr/local/lib/python3.11/dist-packages (from pexpect>4.3->ipython>=4.0.0->ipywidgets) (0.7.0)\n",
            "Requirement already satisfied: wcwidth in /usr/local/lib/python3.11/dist-packages (from prompt-toolkit!=3.0.0,!=3.0.1,<3.1.0,>=2.0.0->ipython>=4.0.0->ipywidgets) (0.2.13)\n",
            "Requirement already satisfied: platformdirs>=2.5 in /usr/local/lib/python3.11/dist-packages (from jupyter-core>=4.6.0->jupyter-client>=6.1.12->ipykernel>=4.5.1->ipywidgets) (4.3.7)\n",
            "Requirement already satisfied: notebook-shim>=0.2.3 in /usr/local/lib/python3.11/dist-packages (from nbclassic>=0.4.7->notebook>=4.4.1->widgetsnbextension~=3.6.0->ipywidgets) (0.2.4)\n",
            "Requirement already satisfied: beautifulsoup4 in /usr/local/lib/python3.11/dist-packages (from nbconvert>=5->notebook>=4.4.1->widgetsnbextension~=3.6.0->ipywidgets) (4.13.4)\n",
            "Requirement already satisfied: bleach!=5.0.0 in /usr/local/lib/python3.11/dist-packages (from bleach[css]!=5.0.0->nbconvert>=5->notebook>=4.4.1->widgetsnbextension~=3.6.0->ipywidgets) (6.2.0)\n",
            "Requirement already satisfied: defusedxml in /usr/local/lib/python3.11/dist-packages (from nbconvert>=5->notebook>=4.4.1->widgetsnbextension~=3.6.0->ipywidgets) (0.7.1)\n",
            "Requirement already satisfied: jupyterlab-pygments in /usr/local/lib/python3.11/dist-packages (from nbconvert>=5->notebook>=4.4.1->widgetsnbextension~=3.6.0->ipywidgets) (0.3.0)\n",
            "Requirement already satisfied: markupsafe>=2.0 in /usr/local/lib/python3.11/dist-packages (from nbconvert>=5->notebook>=4.4.1->widgetsnbextension~=3.6.0->ipywidgets) (3.0.2)\n",
            "Requirement already satisfied: mistune<4,>=2.0.3 in /usr/local/lib/python3.11/dist-packages (from nbconvert>=5->notebook>=4.4.1->widgetsnbextension~=3.6.0->ipywidgets) (3.1.3)\n",
            "Requirement already satisfied: nbclient>=0.5.0 in /usr/local/lib/python3.11/dist-packages (from nbconvert>=5->notebook>=4.4.1->widgetsnbextension~=3.6.0->ipywidgets) (0.10.2)\n",
            "Requirement already satisfied: pandocfilters>=1.4.1 in /usr/local/lib/python3.11/dist-packages (from nbconvert>=5->notebook>=4.4.1->widgetsnbextension~=3.6.0->ipywidgets) (1.5.1)\n",
            "Requirement already satisfied: fastjsonschema>=2.15 in /usr/local/lib/python3.11/dist-packages (from nbformat->notebook>=4.4.1->widgetsnbextension~=3.6.0->ipywidgets) (2.21.1)\n",
            "Requirement already satisfied: jsonschema>=2.6 in /usr/local/lib/python3.11/dist-packages (from nbformat->notebook>=4.4.1->widgetsnbextension~=3.6.0->ipywidgets) (4.23.0)\n",
            "Requirement already satisfied: six>=1.5 in /usr/local/lib/python3.11/dist-packages (from python-dateutil>=2.1->jupyter-client>=6.1.12->ipykernel>=4.5.1->ipywidgets) (1.17.0)\n",
            "Requirement already satisfied: argon2-cffi-bindings in /usr/local/lib/python3.11/dist-packages (from argon2-cffi->notebook>=4.4.1->widgetsnbextension~=3.6.0->ipywidgets) (21.2.0)\n",
            "Requirement already satisfied: webencodings in /usr/local/lib/python3.11/dist-packages (from bleach!=5.0.0->bleach[css]!=5.0.0->nbconvert>=5->notebook>=4.4.1->widgetsnbextension~=3.6.0->ipywidgets) (0.5.1)\n",
            "Requirement already satisfied: tinycss2<1.5,>=1.1.0 in /usr/local/lib/python3.11/dist-packages (from bleach[css]!=5.0.0->nbconvert>=5->notebook>=4.4.1->widgetsnbextension~=3.6.0->ipywidgets) (1.4.0)\n",
            "Requirement already satisfied: attrs>=22.2.0 in /usr/local/lib/python3.11/dist-packages (from jsonschema>=2.6->nbformat->notebook>=4.4.1->widgetsnbextension~=3.6.0->ipywidgets) (25.3.0)\n",
            "Requirement already satisfied: jsonschema-specifications>=2023.03.6 in /usr/local/lib/python3.11/dist-packages (from jsonschema>=2.6->nbformat->notebook>=4.4.1->widgetsnbextension~=3.6.0->ipywidgets) (2025.4.1)\n",
            "Requirement already satisfied: referencing>=0.28.4 in /usr/local/lib/python3.11/dist-packages (from jsonschema>=2.6->nbformat->notebook>=4.4.1->widgetsnbextension~=3.6.0->ipywidgets) (0.36.2)\n",
            "Requirement already satisfied: rpds-py>=0.7.1 in /usr/local/lib/python3.11/dist-packages (from jsonschema>=2.6->nbformat->notebook>=4.4.1->widgetsnbextension~=3.6.0->ipywidgets) (0.24.0)\n",
            "Requirement already satisfied: jupyter-server<3,>=1.8 in /usr/local/lib/python3.11/dist-packages (from notebook-shim>=0.2.3->nbclassic>=0.4.7->notebook>=4.4.1->widgetsnbextension~=3.6.0->ipywidgets) (1.16.0)\n",
            "Requirement already satisfied: cffi>=1.0.1 in /usr/local/lib/python3.11/dist-packages (from argon2-cffi-bindings->argon2-cffi->notebook>=4.4.1->widgetsnbextension~=3.6.0->ipywidgets) (1.17.1)\n",
            "Requirement already satisfied: soupsieve>1.2 in /usr/local/lib/python3.11/dist-packages (from beautifulsoup4->nbconvert>=5->notebook>=4.4.1->widgetsnbextension~=3.6.0->ipywidgets) (2.7)\n",
            "Requirement already satisfied: typing-extensions>=4.0.0 in /usr/local/lib/python3.11/dist-packages (from beautifulsoup4->nbconvert>=5->notebook>=4.4.1->widgetsnbextension~=3.6.0->ipywidgets) (4.13.2)\n",
            "Requirement already satisfied: pycparser in /usr/local/lib/python3.11/dist-packages (from cffi>=1.0.1->argon2-cffi-bindings->argon2-cffi->notebook>=4.4.1->widgetsnbextension~=3.6.0->ipywidgets) (2.22)\n",
            "Requirement already satisfied: anyio>=3.1.0 in /usr/local/lib/python3.11/dist-packages (from jupyter-server<3,>=1.8->notebook-shim>=0.2.3->nbclassic>=0.4.7->notebook>=4.4.1->widgetsnbextension~=3.6.0->ipywidgets) (4.9.0)\n",
            "Requirement already satisfied: websocket-client in /usr/local/lib/python3.11/dist-packages (from jupyter-server<3,>=1.8->notebook-shim>=0.2.3->nbclassic>=0.4.7->notebook>=4.4.1->widgetsnbextension~=3.6.0->ipywidgets) (1.8.0)\n",
            "Requirement already satisfied: idna>=2.8 in /usr/local/lib/python3.11/dist-packages (from anyio>=3.1.0->jupyter-server<3,>=1.8->notebook-shim>=0.2.3->nbclassic>=0.4.7->notebook>=4.4.1->widgetsnbextension~=3.6.0->ipywidgets) (3.10)\n",
            "Requirement already satisfied: sniffio>=1.1 in /usr/local/lib/python3.11/dist-packages (from anyio>=3.1.0->jupyter-server<3,>=1.8->notebook-shim>=0.2.3->nbclassic>=0.4.7->notebook>=4.4.1->widgetsnbextension~=3.6.0->ipywidgets) (1.3.1)\n",
            "Downloading jedi-0.19.2-py2.py3-none-any.whl (1.6 MB)\n",
            "\u001b[2K   \u001b[90m━━━━━━━━━━━━━━━━━━━━━━━━━━━━━━━━━━━━━━━━\u001b[0m \u001b[32m1.6/1.6 MB\u001b[0m \u001b[31m16.7 MB/s\u001b[0m eta \u001b[36m0:00:00\u001b[0m\n",
            "\u001b[?25hInstalling collected packages: jedi\n",
            "Successfully installed jedi-0.19.2\n"
          ]
        }
      ]
    },
    {
      "cell_type": "code",
      "source": [
        "import ipywidgets as widgets\n",
        "from IPython.display import display, clear_output"
      ],
      "metadata": {
        "id": "4rZDBKVgFOfu"
      },
      "execution_count": 26,
      "outputs": []
    },
    {
      "cell_type": "code",
      "source": [
        "print(df.columns)"
      ],
      "metadata": {
        "colab": {
          "base_uri": "https://localhost:8080/"
        },
        "id": "Tr8D-gAXFk-s",
        "outputId": "a3002398-1efc-44e3-d2b3-8e8d5dd91d3d"
      },
      "execution_count": 27,
      "outputs": [
        {
          "output_type": "stream",
          "name": "stdout",
          "text": [
            "Index(['URI', 'name', 'text'], dtype='object')\n"
          ]
        }
      ]
    },
    {
      "cell_type": "code",
      "source": [
        "df = pd.read_csv('https://ddc-datascience.s3.amazonaws.com/Projects/Project.5-NLP/Data/NLP.csv')"
      ],
      "metadata": {
        "id": "rpcmiW0YGTKn"
      },
      "execution_count": 28,
      "outputs": []
    },
    {
      "cell_type": "code",
      "source": [
        "from sklearn.feature_extraction.text import CountVectorizer\n",
        "from sklearn.metrics.pairwise import cosine_similarity\n",
        "import ipywidgets as widgets\n",
        "from IPython.display import display, clear_output\n",
        "\n",
        "# Precompute BoW matrix and similarity\n",
        "vectorizer = CountVectorizer()\n",
        "X = vectorizer.fit_transform(df['text'].fillna(\"\"))\n",
        "\n",
        "# Create dropdown or text input for person selection\n",
        "name_input = widgets.Combobox(\n",
        "    placeholder='Type a name',\n",
        "    options=df['name'].tolist(),\n",
        "    description='Person:',\n",
        "    ensure_option=True,\n",
        "    style={'description_width': 'initial'},\n",
        "    layout=widgets.Layout(width='50%')\n",
        ")\n",
        "\n",
        "output_area = widgets.Output()\n",
        "\n",
        "def show_similar_people(change):\n",
        "    with output_area:\n",
        "        clear_output()\n",
        "        name = name_input.value\n",
        "        if name not in df['name'].values:\n",
        "            print(f\"'{name}' not found in dataset.\")\n",
        "            return\n",
        "\n",
        "        person_index = df[df['name'] == name].index[0]\n",
        "        person_vector = X[person_index]\n",
        "\n",
        "        # Compute similarity only for this person\n",
        "        similarities = cosine_similarity(person_vector, X).flatten()\n",
        "        top_indices = np.argsort(similarities)[::-1][1:11]\n",
        "\n",
        "        print(f\"\\nTop 10 matches for: {name}\\n\")\n",
        "        for i, idx in enumerate(top_indices):\n",
        "            match_name = df.iloc[idx]['name']\n",
        "            score = similarities[idx]\n",
        "            print(f\"{i+1}. {match_name} — Similarity: {score:.3f}\")\n",
        "\n",
        "\n",
        "# Trigger when value is submitted\n",
        "name_input.observe(show_similar_people, names='value')\n",
        "\n",
        "# Display the input and output\n",
        "display(name_input, output_area)\n"
      ],
      "metadata": {
        "id": "Z4M0dPIMFS5s"
      },
      "execution_count": null,
      "outputs": []
    },
    {
      "cell_type": "code",
      "source": [
        "print(f\"Total entries: {len(df)}\")\n",
        "print(df.head())\n"
      ],
      "metadata": {
        "colab": {
          "base_uri": "https://localhost:8080/"
        },
        "id": "Nj4FRwvTFS2V",
        "outputId": "63f85077-df60-4bb2-9b06-d51a2293d9f1"
      },
      "execution_count": 30,
      "outputs": [
        {
          "output_type": "stream",
          "name": "stdout",
          "text": [
            "Total entries: 42786\n",
            "                                                 URI                 name  \\\n",
            "0        <http://dbpedia.org/resource/Digby_Morrell>        Digby Morrell   \n",
            "1       <http://dbpedia.org/resource/Alfred_J._Lewy>       Alfred J. Lewy   \n",
            "2        <http://dbpedia.org/resource/Harpdog_Brown>        Harpdog Brown   \n",
            "3  <http://dbpedia.org/resource/Franz_Rottensteiner>  Franz Rottensteiner   \n",
            "4               <http://dbpedia.org/resource/G-Enka>               G-Enka   \n",
            "\n",
            "                                                text  \n",
            "0  digby morrell born 10 october 1979 is a former...  \n",
            "1  alfred j lewy aka sandy lewy graduated from un...  \n",
            "2  harpdog brown is a singer and harmonica player...  \n",
            "3  franz rottensteiner born in waidmannsfeld lowe...  \n",
            "4  henry krvits born 30 december 1974 in tallinn ...  \n"
          ]
        }
      ]
    },
    {
      "cell_type": "code",
      "source": [],
      "metadata": {
        "id": "AESlfGX7FSzV"
      },
      "execution_count": 30,
      "outputs": []
    },
    {
      "cell_type": "code",
      "source": [],
      "metadata": {
        "id": "NkgOBppZFSsw"
      },
      "execution_count": 30,
      "outputs": []
    },
    {
      "cell_type": "code",
      "source": [],
      "metadata": {
        "id": "a47awjVeFSpl"
      },
      "execution_count": 30,
      "outputs": []
    }
  ],
  "metadata": {
    "colab": {
      "provenance": [],
      "include_colab_link": true
    },
    "kernelspec": {
      "display_name": "Python 3 (ipykernel)",
      "language": "python",
      "name": "python3"
    },
    "language_info": {
      "codemirror_mode": {
        "name": "ipython",
        "version": 3
      },
      "file_extension": ".py",
      "mimetype": "text/x-python",
      "name": "python",
      "nbconvert_exporter": "python",
      "pygments_lexer": "ipython3",
      "version": "3.10.12"
    }
  },
  "nbformat": 4,
  "nbformat_minor": 0
}